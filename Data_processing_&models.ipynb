{
 "cells": [
  {
   "cell_type": "markdown",
   "id": "848416af",
   "metadata": {
    "id": "848416af"
   },
   "source": [
    "### Load Data"
   ]
  },
  {
   "cell_type": "code",
   "execution_count": 1,
   "id": "21731935",
   "metadata": {
    "id": "21731935"
   },
   "outputs": [],
   "source": [
    "import pandas as pd\n",
    "import re\n",
    "from itertools import chain\n",
    "import itertools"
   ]
  },
  {
   "cell_type": "code",
   "execution_count": 2,
   "id": "5e2daa89",
   "metadata": {
    "colab": {
     "base_uri": "https://localhost:8080/"
    },
    "id": "5e2daa89",
    "outputId": "c18925dc-44b1-4c1c-e4a0-2b67ff823315"
   },
   "outputs": [
    {
     "data": {
      "text/plain": [
       "Index(['master_id', 'plan', 'match_rate', 'default_contribution', 'd1', 'd0',\n",
       "       'low', 'med', 'high', 'd1_low',\n",
       "       ...\n",
       "       'e1_happy_overall_rescaled', 'e1_life_satisfied', 'e1_nights_eating',\n",
       "       'e1_fin_satisfaction', 'e1_confident_finance_current',\n",
       "       'e1_conf_fin_current_rescaled', 'e1_confident_finance_future',\n",
       "       'e1_conf_fin_future_rescaled', 'e1_will_retire',\n",
       "       'e1_not_too_many_expenses'],\n",
       "      dtype='object', length=425)"
      ]
     },
     "execution_count": 2,
     "metadata": {},
     "output_type": "execute_result"
    }
   ],
   "source": [
    "#from google.colab import drive\n",
    "#drive.mount(\"/content/gdrive/\")\n",
    "#df1 = pd.read_stata(\"/content/gdrive/My Drive/mpaz_master_NATIVE.dta\")\n",
    "df1 = pd.read_stata(\"mpaz_master_NATIVE.dta\")\n",
    "df1.columns"
   ]
  },
  {
   "cell_type": "markdown",
   "id": "386d233e",
   "metadata": {
    "id": "386d233e"
   },
   "source": [
    "#### General cleaning"
   ]
  },
  {
   "cell_type": "code",
   "execution_count": 3,
   "id": "4ffae462",
   "metadata": {
    "id": "4ffae462"
   },
   "outputs": [],
   "source": [
    "df= df1.copy()\n",
    "cat_columns = df.select_dtypes(['category']).columns\n",
    "df[cat_columns] = df[cat_columns].apply(lambda x: pd.factorize(x)[0]) # normalize categorial data\n",
    "df.fillna(0,inplace=True)\n",
    "df['consult_scenarios_asked'] = df['consult_scenarios_asked'].apply(lambda x: 1 if x!= \"\"else 0)"
   ]
  },
  {
   "cell_type": "markdown",
   "id": "64e9f666",
   "metadata": {
    "id": "64e9f666"
   },
   "source": [
    "### Data exploration"
   ]
  },
  {
   "cell_type": "code",
   "execution_count": 4,
   "id": "8fbe0416",
   "metadata": {
    "id": "8fbe0416"
   },
   "outputs": [],
   "source": [
    "import seaborn as sns\n",
    "import matplotlib.pyplot as plt\n",
    "from sklearn.decomposition import PCA\n",
    "from sklearn import preprocessing \n",
    "import numpy as np\n",
    "from itertools import combinations"
   ]
  },
  {
   "cell_type": "markdown",
   "id": "32e9f93b",
   "metadata": {
    "id": "32e9f93b"
   },
   "source": [
    "##### Stick to default"
   ]
  },
  {
   "cell_type": "code",
   "execution_count": 6,
   "id": "8bbbba5d",
   "metadata": {
    "id": "8bbbba5d"
   },
   "outputs": [],
   "source": [
    "change_cbn = df.loc[:,'changed_cbn_never':'changed_smsday']\n",
    "begin_default = df.loc[:,'changed_cbn_jan']"
   ]
  },
  {
   "cell_type": "code",
   "execution_count": 7,
   "id": "eeaf3f89",
   "metadata": {
    "id": "eeaf3f89"
   },
   "outputs": [],
   "source": [
    "end_default = df['changed_cbn_never']"
   ]
  },
  {
   "cell_type": "markdown",
   "id": "4jP-ksxqfsmI",
   "metadata": {
    "id": "4jP-ksxqfsmI"
   },
   "source": [
    "##### Reasons of sticking to default or switch"
   ]
  },
  {
   "cell_type": "code",
   "execution_count": 8,
   "id": "oKyydaLSwv3L",
   "metadata": {
    "colab": {
     "base_uri": "https://localhost:8080/"
    },
    "id": "oKyydaLSwv3L",
    "outputId": "a16ef45f-1a6a-40a4-cd9c-a7a432df5b09"
   },
   "outputs": [
    {
     "data": {
      "text/plain": [
       "switch_reason1      49.0\n",
       "switch_reason2      52.0\n",
       "switch_reason3      35.0\n",
       "switch_reason4       4.0\n",
       "switch_reason5      24.0\n",
       "switch_reason10    107.0\n",
       "switch_reason11    189.0\n",
       "switch_reason12     10.0\n",
       "switch_reason15      8.0\n",
       "switch_reason16      5.0\n",
       "dtype: float64"
      ]
     },
     "execution_count": 8,
     "metadata": {},
     "output_type": "execute_result"
    }
   ],
   "source": [
    "switch = df1.loc[:,'switch_reason1':'switch_reason16']\n",
    "switch.sum()"
   ]
  },
  {
   "cell_type": "code",
   "execution_count": 5,
   "id": "faa75213",
   "metadata": {
    "colab": {
     "base_uri": "https://localhost:8080/",
     "height": 299
    },
    "id": "faa75213",
    "outputId": "4f4179f9-a616-4e5a-874d-6c289ce34111"
   },
   "outputs": [
    {
     "ename": "NameError",
     "evalue": "name 'switch' is not defined",
     "output_type": "error",
     "traceback": [
      "\u001b[1;31m---------------------------------------------------------------------------\u001b[0m",
      "\u001b[1;31mNameError\u001b[0m                                 Traceback (most recent call last)",
      "\u001b[1;32m<ipython-input-5-81be00ef2e28>\u001b[0m in \u001b[0;36m<module>\u001b[1;34m\u001b[0m\n\u001b[1;32m----> 1\u001b[1;33m \u001b[0mplt\u001b[0m\u001b[1;33m.\u001b[0m\u001b[0mbar\u001b[0m\u001b[1;33m(\u001b[0m\u001b[0mnp\u001b[0m\u001b[1;33m.\u001b[0m\u001b[0marange\u001b[0m\u001b[1;33m(\u001b[0m\u001b[0mlen\u001b[0m\u001b[1;33m(\u001b[0m\u001b[0mswitch\u001b[0m\u001b[1;33m.\u001b[0m\u001b[0mcolumns\u001b[0m\u001b[1;33m)\u001b[0m\u001b[1;33m)\u001b[0m\u001b[1;33m+\u001b[0m\u001b[1;36m0.3\u001b[0m\u001b[1;33m,\u001b[0m\u001b[0mswitch\u001b[0m\u001b[1;33m.\u001b[0m\u001b[0msum\u001b[0m\u001b[1;33m(\u001b[0m\u001b[0maxis\u001b[0m\u001b[1;33m=\u001b[0m\u001b[1;36m0\u001b[0m\u001b[1;33m)\u001b[0m\u001b[1;33m.\u001b[0m\u001b[0mto_numpy\u001b[0m\u001b[1;33m(\u001b[0m\u001b[1;33m)\u001b[0m\u001b[1;33m,\u001b[0m\u001b[0malpha\u001b[0m \u001b[1;33m=\u001b[0m \u001b[1;36m0.4\u001b[0m\u001b[1;33m)\u001b[0m\u001b[1;33m\u001b[0m\u001b[1;33m\u001b[0m\u001b[0m\n\u001b[0m\u001b[0;32m      2\u001b[0m \u001b[0mplt\u001b[0m\u001b[1;33m.\u001b[0m\u001b[0mxlabel\u001b[0m\u001b[1;33m(\u001b[0m\u001b[1;34m'switch reasons'\u001b[0m\u001b[1;33m,\u001b[0m\u001b[0msize\u001b[0m\u001b[1;33m=\u001b[0m\u001b[1;36m12\u001b[0m\u001b[1;33m)\u001b[0m\u001b[1;33m\u001b[0m\u001b[1;33m\u001b[0m\u001b[0m\n\u001b[0;32m      3\u001b[0m \u001b[0mplt\u001b[0m\u001b[1;33m.\u001b[0m\u001b[0mylabel\u001b[0m\u001b[1;33m(\u001b[0m\u001b[1;34m'number of observations'\u001b[0m\u001b[1;33m,\u001b[0m\u001b[0msize\u001b[0m\u001b[1;33m=\u001b[0m\u001b[1;36m12\u001b[0m\u001b[1;33m)\u001b[0m\u001b[1;33m\u001b[0m\u001b[1;33m\u001b[0m\u001b[0m\n",
      "\u001b[1;31mNameError\u001b[0m: name 'switch' is not defined"
     ]
    }
   ],
   "source": [
    "plt.bar(np.arange(len(switch.columns))+0.3,switch.sum(axis=0).to_numpy(),alpha = 0.4)\n",
    "plt.xlabel('switch reasons',size=12)\n",
    "plt.ylabel('number of observations',size=12)"
   ]
  },
  {
   "cell_type": "markdown",
   "id": "58565fe8",
   "metadata": {
    "id": "58565fe8"
   },
   "source": [
    "**Reasons of swtiching default option**\n",
    "\n",
    "switch_reason1:Decreased - Incentives Too Low;\n",
    "\n",
    "switch_reason2:Decreased - Salary Too Low;\n",
    "\n",
    "switch_reason3:Decreased - Expenses Too High;\n",
    "\n",
    "switch_reason4:Decreased - Better Alternatives;\n",
    "\n",
    "switch_reason5:Decreased - Un-Islamic Product;\n",
    "\n",
    "switch_reason10:Increased - Responding to Incentives;\n",
    "\n",
    "switch_reason11:Increased - Savings Important;\n",
    "\n",
    "switch_reason12:Increased - Support Roshan Products;\n",
    "\n",
    "switch_reason15:Increased - Demand for Commitment;\n",
    "\n",
    "switch_reason16:Increased - Thought Deposits Automatic;\n",
    " "
   ]
  },
  {
   "cell_type": "code",
   "execution_count": 6,
   "id": "HirDB01zp7KB",
   "metadata": {
    "colab": {
     "base_uri": "https://localhost:8080/"
    },
    "id": "HirDB01zp7KB",
    "outputId": "ebdb22c8-9f0f-4f98-a0fc-af56725bb1cf"
   },
   "outputs": [
    {
     "data": {
      "text/plain": [
       "p1_atdefault_reason1          57\n",
       "p1_atdefault_reason2           9\n",
       "p1_atdefault_reason3           5\n",
       "p1_atdefault_reason4          13\n",
       "p1_atdefault_reason5          10\n",
       "p1_atdefault_reason6         108\n",
       "p1_atdefault_reason7           4\n",
       "p1_atdefault_reason8           9\n",
       "p1_atdefault_reason9           5\n",
       "p1_atdefault_reason10         13\n",
       "p1_atdefault_reason11          0\n",
       "p1_atdefault_reason12          0\n",
       "p1_atdefault_reason13          5\n",
       "p1_atdefault_reason14          6\n",
       "p1_atdefault_reason_other    104\n",
       "dtype: int64"
      ]
     },
     "execution_count": 6,
     "metadata": {},
     "output_type": "execute_result"
    }
   ],
   "source": [
    "at_default_reason = df1.loc[pd.notna(df1['p1_atdefault_reason1'])].loc[:,'p1_atdefault_reason1':'p1_atdefault_reason_other']\n",
    "at_default_reason = at_default_reason.apply(lambda x: pd.factorize(x)[0])\n",
    "at_default_reason['p1_atdefault_reason_other'] = at_default_reason['p1_atdefault_reason_other'].apply(lambda x: 0 if x==0 or x ==-1 else 1)\n",
    "at_default_reason.sum()"
   ]
  },
  {
   "cell_type": "code",
   "execution_count": 7,
   "id": "PbUPCOazyfuj",
   "metadata": {
    "colab": {
     "base_uri": "https://localhost:8080/",
     "height": 299
    },
    "id": "PbUPCOazyfuj",
    "outputId": "50612027-f592-43ae-f180-659c4714b616"
   },
   "outputs": [
    {
     "data": {
      "text/plain": [
       "Text(0, 0.5, 'number of observations')"
      ]
     },
     "execution_count": 7,
     "metadata": {},
     "output_type": "execute_result"
    },
    {
     "data": {
      "image/png": "[encoded data removed]",
      "text/plain": [
       "<Figure size 432x288 with 1 Axes>"
      ]
     },
     "metadata": {
      "needs_background": "light"
     },
     "output_type": "display_data"
    }
   ],
   "source": [
    "#plt.figure(figsize=(12,8))\n",
    "plt.bar(np.arange(len(at_default_reason.columns))+0.3,at_default_reason.sum(axis=0).to_numpy(),alpha = 0.4)\n",
    "plt.xlabel('stay at default reasons',size=12)\n",
    "plt.ylabel('number of observations',size = 12)"
   ]
  },
  {
   "cell_type": "markdown",
   "id": "QYRhGSrhppMw",
   "metadata": {
    "id": "QYRhGSrhppMw"
   },
   "source": [
    "**Reasons of stay at default**\n",
    "\n",
    "p1_atdefault_reason1 : I am happy with my default contribution rate;\n",
    "\n",
    "p1_atdefault_reason2: I do not want to save more money;\n",
    "\n",
    "p1_atdefault_reason3 : I do not want to save less money;\n",
    "\n",
    "p1_atdefault_reason4: I do not want to save any money since my salary is too low;\n",
    "\n",
    "p1_atdefault_reason5: I do not trust saving my money in M-Pasandaz account;\n",
    "\n",
    "p1_atdefault_reason6: My salary is low and I can?t afford saving;\n",
    "\n",
    "p1_atdefault_reason7: I already have other saving accounts for saving my money;\n",
    "\n",
    "p1_atdefault_reason8: I did want to change my plan but did not have time to call HR;\n",
    "\n",
    "p1_atdefault_reason9: I want to change my plan but do not know how;\n",
    "\n",
    "p1_atdefault_reason10:I intend to change my plan but have not yet;\n",
    "p1_atdefault_reason11 : My friends? plans were better than mine;\n",
    "p1_atdefault_reason12:My friends? plans worse than mine;\n",
    "p1_atdefault_reason13: I had not thought about it at all;\n",
    "\n",
    "p1_atdefault_reason14:I wanted to change my contribution but I forgot to call;\n"
   ]
  },
  {
   "cell_type": "code",
   "execution_count": 8,
   "id": "-XjYc2E5zkeI",
   "metadata": {
    "colab": {
     "base_uri": "https://localhost:8080/"
    },
    "id": "-XjYc2E5zkeI",
    "outputId": "42a1b4b6-76eb-4d7b-d769-72b1c3aebba2"
   },
   "outputs": [
    {
     "data": {
      "text/plain": [
       "['I am not intrested in M-Pasandaz', NaN, 'I didn?t understand the system / I don?t have..., 'My cart was white which not have any profit', 'Don?t want to particepate changed my contribu..., ..., 'I have to pay my other loan', 'I don?t have plan to do saving', 'No possible to changed my contributioin in si..., 'I am a contractor', 'I want to check that M-Passandaz is working o...]\n",
       "Length: 16\n",
       "Categories (15, object): ['Don?t want to particepate changed my contribu... < 'Don?t want to particepate in M-Pasandaz' < 'Don?t want to particepate in M-Pasandaz it is... < 'Not giving good profit' ... 'I didn?t understand the system / I don?t have... < 'I don?t have plan to do saving' < 'I want to check that M-Passandaz is working o... < 'I am a contractor']"
      ]
     },
     "execution_count": 8,
     "metadata": {},
     "output_type": "execute_result"
    }
   ],
   "source": [
    "df1['p1_atdefault_reason_other'].unique()"
   ]
  },
  {
   "cell_type": "code",
   "execution_count": 9,
   "id": "0636a306",
   "metadata": {
    "id": "0636a306"
   },
   "outputs": [],
   "source": [
    "switch = df.loc[:,'switch_reason1':'switch_reason16']\n",
    "at_default_reason = df.loc[:,'p1_atdefault_reason1':'p1_atdefault_reason_other']\n",
    "reasons= pd.concat([switch,at_default_reason],axis=1)\n",
    "reasons = reasons.replace(-1,0)\n",
    "reasons['p1_atdefault_reason_other'] = reasons['p1_atdefault_reason_other'].apply(lambda x: 1 if x!=0 else x)\n",
    "reasons['p1_atdefault_reason_other'].unique()\n",
    "reasons['sum'] = reasons.sum(axis=1)"
   ]
  },
  {
   "cell_type": "code",
   "execution_count": 10,
   "id": "wKioXb6Y6lfj",
   "metadata": {
    "colab": {
     "base_uri": "https://localhost:8080/"
    },
    "id": "wKioXb6Y6lfj",
    "outputId": "2dd8b0ce-bf26-4635-e1a8-87439e5844ec"
   },
   "outputs": [
    {
     "data": {
      "text/plain": [
       "645"
      ]
     },
     "execution_count": 10,
     "metadata": {},
     "output_type": "execute_result"
    }
   ],
   "source": [
    "(reasons['sum'] >0).sum()"
   ]
  },
  {
   "cell_type": "markdown",
   "id": "eac09494",
   "metadata": {
    "id": "eac09494"
   },
   "source": [
    "##### Beginning investigation\n",
    "Includes social identification,financial background, present_bias,risk perference"
   ]
  },
  {
   "cell_type": "code",
   "execution_count": 11,
   "id": "0477ec61",
   "metadata": {
    "colab": {
     "base_uri": "https://localhost:8080/"
    },
    "id": "0477ec61",
    "outputId": "80d2701a-2825-471f-f4a0-c67507198e3d"
   },
   "outputs": [
    {
     "data": {
      "text/plain": [
       "Index(['education_level', 'missed_meals', 'withdraw_entire_salary',\n",
       "       'total_savings', 'uses_bank', 'male', 'bank_savings', 'cash_savings',\n",
       "       'loans_given', 'mpaisa_savings', 'mpaz_savings', 'savings_other_form',\n",
       "       'total_savings_calc', 'food_expenditure_week',\n",
       "       'general_expenditures_month', 'married', 'interest', 'fail_pay', 'age',\n",
       "       'intelligence', 'delta_bl', 'beta_bl', 'time_inconsistent_baseline',\n",
       "       'fix_phone_self', 'income_transfers', 'total_income', 'risk_general',\n",
       "       'asset_bed', 'asset_stove', 'asset_washing', 'asset_ac', 'asset_heater',\n",
       "       'asset_fridge', 'asset_room', 'asset_tv', 'asset_dvd', 'asset_phone',\n",
       "       'asset_computer', 'asset_bicycle', 'asset_motorcycle', 'asset_car',\n",
       "       'asset_sewing', 'asset_livestock', 'tenure', 'salary_jan'],\n",
       "      dtype='object')"
      ]
     },
     "execution_count": 11,
     "metadata": {},
     "output_type": "execute_result"
    }
   ],
   "source": [
    "columns = list(df.loc[:,'education_level':'asset_livestock'].columns)\n",
    "columns.extend(['tenure','salary_jan'])\n",
    "begin_info = df.loc[:,columns]\n",
    "begin_info.columns"
   ]
  },
  {
   "cell_type": "markdown",
   "id": "2508bafb",
   "metadata": {
    "id": "2508bafb"
   },
   "source": [
    "##### Intervention : financial consultance"
   ]
  },
  {
   "cell_type": "code",
   "execution_count": 12,
   "id": "952352a4",
   "metadata": {
    "colab": {
     "base_uri": "https://localhost:8080/"
    },
    "id": "952352a4",
    "outputId": "fec5d84d-bb31-4b79-f787-9f2d1a3c5683"
   },
   "outputs": [
    {
     "data": {
      "text/plain": [
       "Index(['consultyn', 'consult_oldcbn', 'consult_newcbn', 'consult_talk_now',\n",
       "       'consult_wants_overview', 'consult_aware_rate',\n",
       "       'consult_wants_scenarios', 'consult_questions1', 'consult_repeatinfo',\n",
       "       'consult_scenarios_asked', 'consult_questions2', 'consult_notreached',\n",
       "       'changed_consult'],\n",
       "      dtype='object')"
      ]
     },
     "execution_count": 12,
     "metadata": {},
     "output_type": "execute_result"
    }
   ],
   "source": [
    "consult= df.loc[:,'consultyn':'changed_consult']\n",
    "consult['consult_scenarios_asked'] = consult['consult_scenarios_asked'].apply(lambda x: 1 if x!= \"\"else 0)\n",
    "consult.columns"
   ]
  },
  {
   "cell_type": "markdown",
   "id": "BCAYskWRgzBF",
   "metadata": {
    "id": "BCAYskWRgzBF"
   },
   "source": [
    "##### Experiment related"
   ]
  },
  {
   "cell_type": "code",
   "execution_count": 13,
   "id": "9a429ed6",
   "metadata": {
    "id": "9a429ed6"
   },
   "outputs": [],
   "source": [
    "experiment_con = df.loc[:,['default_contribution','participates','low','med','high']]\n",
    "balance = df.loc[:,'mpaz_balance_jan':'mpaz_balance_jun'].columns\n",
    "flow = df.loc[:,'mpaisa_flow_jun':'mpaisa_flow_baseline'].columns\n",
    "panels = df.loc[:,'p1_total_income':'p4_total_savings_adj']\n",
    "contribution_rate = df.loc[:,'cbn':'cbn_jun'].columns\n",
    "experiment = list(chain(*zip(experiment_con,balance, flow, contribution_rate)))\n",
    "experiment = df.loc[:,experiment]"
   ]
  },
  {
   "cell_type": "markdown",
   "id": "BD0Rj5i9mZMj",
   "metadata": {
    "id": "BD0Rj5i9mZMj"
   },
   "source": [
    "##### End investigation"
   ]
  },
  {
   "cell_type": "code",
   "execution_count": 14,
   "id": "49d7Tc167Gcj",
   "metadata": {
    "colab": {
     "base_uri": "https://localhost:8080/"
    },
    "id": "49d7Tc167Gcj",
    "outputId": "bd5bd957-2865-4873-dbbc-35f8d6a159b9"
   },
   "outputs": [
    {
     "data": {
      "text/plain": [
       "816"
      ]
     },
     "execution_count": 14,
     "metadata": {},
     "output_type": "execute_result"
    }
   ],
   "source": [
    "pd.notna(df1['e1_injured']).sum()"
   ]
  },
  {
   "cell_type": "code",
   "execution_count": 15,
   "id": "9e4cbfea",
   "metadata": {
    "colab": {
     "base_uri": "https://localhost:8080/"
    },
    "id": "9e4cbfea",
    "outputId": "dad7e82e-ba1b-47a3-ea48-2c9e361050be"
   },
   "outputs": [
    {
     "data": {
      "text/plain": [
       "Index(['e1_save_important_survey', 'e1_random_assignment_beliefs',\n",
       "       'e1_missed_meals', 'e1_cereal', 'e1_meat', 'e1_vegetables', 'e1_dairy',\n",
       "       'e1_condiments', 'e1_meals_away', 'e1_fuel',\n",
       "       ...\n",
       "       'e1_violence_prime', 'money_mpaz_plan', 'financialproduct_mpaz',\n",
       "       'money_mpaz_spent', 'e1_switch_a', 'e1_switch_left_a', 'e1_switch_b',\n",
       "       'e1_switch_left_b', 'beta_el', 'delta_el'],\n",
       "      dtype='object', length=124)"
      ]
     },
     "execution_count": 15,
     "metadata": {},
     "output_type": "execute_result"
    }
   ],
   "source": [
    "end_info = df.loc[:,'e1_save_important_survey':'delta_el']\n",
    "end_info = end_info.drop('e1_interview_date',axis=1)\n",
    "end_info = end_info.drop('e1_desire_to_change',axis=1)\n",
    "end_info.columns"
   ]
  },
  {
   "cell_type": "markdown",
   "id": "6dab3d2e",
   "metadata": {
    "id": "6dab3d2e"
   },
   "source": [
    "##### Change of savings desire"
   ]
  },
  {
   "cell_type": "code",
   "execution_count": 16,
   "id": "aevPm2H4mD22",
   "metadata": {
    "id": "aevPm2H4mD22"
   },
   "outputs": [],
   "source": [
    "change_desire = df['e1_changed_desire']"
   ]
  },
  {
   "cell_type": "markdown",
   "id": "Re9w4QyA9Dfe",
   "metadata": {
    "id": "Re9w4QyA9Dfe"
   },
   "source": [
    "### Models"
   ]
  },
  {
   "cell_type": "code",
   "execution_count": 17,
   "id": "526ca363",
   "metadata": {
    "id": "526ca363"
   },
   "outputs": [],
   "source": [
    "from sklearn.model_selection import train_test_split\n",
    "from sklearn import linear_model\n",
    "from sklearn.linear_model import LogisticRegression\n",
    "from sklearn.decomposition import KernelPCA\n",
    "from sklearn.model_selection import cross_val_score\n",
    "from sklearn.tree import DecisionTreeClassifier\n",
    "from sklearn.ensemble import RandomForestClassifier\n",
    "from sklearn.metrics import confusion_matrix, f1_score, accuracy_score\n",
    "from sklearn.model_selection import GridSearchCV\n",
    "from sklearn import svm\n",
    "from scikeras.wrappers import KerasClassifier\n",
    "\n",
    "import random\n",
    "random.seed(10)\n",
    "import tensorflow as tf\n",
    "tf.random.set_seed(19)\n",
    "from tensorflow import keras\n",
    "from tensorflow.keras import layers\n",
    "import shap\n"
   ]
  },
  {
   "cell_type": "code",
   "execution_count": 18,
   "id": "AEpDGP0qb0o9",
   "metadata": {
    "id": "AEpDGP0qb0o9"
   },
   "outputs": [],
   "source": [
    "def pca(input_):\n",
    "    pca_out= PCA().fit(input_)\n",
    "    plt.plot(np.cumsum(pca_out.explained_variance_ratio_))\n",
    "    plt.plot(np.repeat(0.95,len(pca_out.explained_variance_ratio_)))\n",
    "    plt.xlabel('components',size=12)\n",
    "    plt.ylabel('explained_variance_ratio',size=12)\n",
    "    return plt.show()\n",
    "\n",
    "def kpca(input_,length):\n",
    "    transformer = KernelPCA(n_components=None, kernel='poly')\n",
    "    transformer.fit(input_)\n",
    "    plt.plot(np.cumsum(transformer.eigenvalues_/np.sum(transformer.eigenvalues_))[:length])\n",
    "    plt.plot(np.repeat(0.95,length))\n",
    "  #plt.ylim(bottom=0)\n",
    "    plt.xlabel('kernel_components',size=12)\n",
    "    plt.ylabel('explained_variance_ratio',size=12)\n",
    "    return plt.show()\n",
    "\n",
    "def plot_all(input_,length):\n",
    "    fig,(ax1,ax2) = plt.subplots(1, 2, figsize=(12,4))\n",
    "    pca_out= PCA().fit(input_)\n",
    "    ax1.plot(np.cumsum(pca_out.explained_variance_ratio_))\n",
    "    ax1.plot(np.repeat(0.95,len(pca_out.explained_variance_ratio_)))\n",
    "    ax1.set_xlabel('components',size=12)\n",
    "    ax1.set_ylabel('explained_variance_ratio',size=12)\n",
    "    transformer = KernelPCA(n_components=None, kernel='poly')\n",
    "    transformer.fit(input_)\n",
    "    ax2.plot(np.cumsum(transformer.eigenvalues_/np.sum(transformer.eigenvalues_))[:length])\n",
    "    plt.plot(np.repeat(0.95,length))\n",
    "    plt.xlabel('kernel_components',size=12)\n",
    "    plt.ylabel('explained_variance_ratio',size=12) \n",
    "    return plt.show()"
   ]
  },
  {
   "cell_type": "code",
   "execution_count": 19,
   "id": "y8j87DM8QzfZ",
   "metadata": {
    "id": "y8j87DM8QzfZ"
   },
   "outputs": [],
   "source": [
    "logit =  LogisticRegression(random_state=42)\n",
    "trees = DecisionTreeClassifier(random_state=42)\n",
    "forest = RandomForestClassifier(random_state=42)\n",
    "svm1  = svm.SVC(random_state=42)\n",
    "#grid = GridSearchCV(estimator=model, param_grid=param_grid, n_jobs=5, cv=3)"
   ]
  },
  {
   "cell_type": "code",
   "execution_count": 20,
   "id": "UHLKXq16Q4Eq",
   "metadata": {
    "id": "UHLKXq16Q4Eq"
   },
   "outputs": [],
   "source": [
    "tree_pm = {'criterion':('gini', 'entropy'),'splitter':['best', 'random'],\n",
    "          'max_depth':np.arange(5,20,1),}\n",
    "forest_pm = {'n_estimators':np.arange(80,120,1),'criterion':('gini', 'entropy'),\n",
    "           'max_depth':np.arange(5,15,1)} \n",
    "svm_pm = {'kernel':['linear','poly', 'rbf', 'sigmoid', 'precomputed'],\n",
    "          'degree':np.arange(3,6,1),'gamma':['scale','auto'] }\n",
    "            \n",
    "activation = ['softmax', 'softplus', 'softsign', 'relu', 'tanh', 'sigmoid', 'hard_sigmoid', 'linear']\n",
    "neurons = [5, 10, 15, 20, 25, 30]\n",
    "            \n",
    "optimizer = ['SGD', 'RMSprop', 'Adagrad', 'Adadelta', 'Adam', 'Adamax', 'Nadam']"
   ]
  },
  {
   "cell_type": "code",
   "execution_count": 21,
   "id": "EY4uT11aSEC3",
   "metadata": {
    "id": "EY4uT11aSEC3"
   },
   "outputs": [],
   "source": [
    "def LR(X,y):\n",
    "    X_train,X_test,y_train,y_test = train_test_split(X,y,test_size=0.3, random_state=42)\n",
    "    clf = LogisticRegression(random_state=42)\n",
    "    clf.fit(X_train,y_train)\n",
    "    prediction = clf.predict(X_test)\n",
    "    accuracy = accuracy_score(y_test, prediction)\n",
    "    return accuracy,clf\n",
    "\n",
    "def DT(X,y):\n",
    "    X_train,X_test,y_train,y_test = train_test_split(X,y,test_size=0.3, random_state=42)\n",
    "    grid = GridSearchCV(estimator=trees, param_grid=tree_pm, n_jobs=5, cv=3)\n",
    "    grid_result = grid.fit(X_train,y_train)\n",
    "    param = grid_result.best_params_\n",
    "    clf = DecisionTreeClassifier(criterion=param['criterion'],\n",
    "                                 max_depth = param['max_depth'], \n",
    "                                 splitter= param['splitter'], random_state=42)\n",
    "    clf.fit(X_train,y_train)\n",
    "    prediction = clf.predict(X_test)\n",
    "    accuracy = accuracy_score(y_test, prediction)\n",
    "    return param,accuracy,clf\n",
    "\n",
    "def RF(X,y):\n",
    "    X_train,X_test,y_train,y_test = train_test_split(X,y,test_size=0.3, random_state=42)\n",
    "    grid = GridSearchCV(estimator=forest, param_grid=forest_pm, n_jobs=5, cv=3)\n",
    "    grid_result = grid.fit(X_train,y_train)\n",
    "    param = grid_result.best_params_\n",
    "    clf = RandomForestClassifier(criterion=param['criterion'],\n",
    "                                 max_depth = param['max_depth'],\n",
    "                                 n_estimators=param['n_estimators'],random_state=42)\n",
    "    clf.fit(X_train,y_train)\n",
    "    prediction = clf.predict(X_test)\n",
    "    accuracy = accuracy_score(y_test, prediction)\n",
    "    return param, accuracy,clf\n",
    "\n",
    "def NN_bi(X,y):    \n",
    "    X_train,X_test,y_train,y_test = train_test_split(X,y,test_size=0.3, random_state=42)\n",
    "    model = create_binary_model(X_train)\n",
    "    model.fit(X_train,y_train,validation_split=0.1,batch_size= 50,epochs=5)\n",
    "    accuracy = model.evaluate(X_test,y_test)[1]\n",
    "    return accuracy,model\n",
    "\n",
    "def NN_mi(X,y):    \n",
    "    X_train,X_test,y_train,y_test = train_test_split(X,y,test_size=0.3, random_state=42)\n",
    "    model = create_class_model(X_train,y_train)\n",
    "    model.fit(X_train,y_train,validation_split=0.1,batch_size= 50,epochs=5)\n",
    "    accuracy = model.evaluate(X_test,y_test)[1]\n",
    "    return accuracy,model"
   ]
  },
  {
   "cell_type": "code",
   "execution_count": 23,
   "id": "ZpINNNJGGmWU",
   "metadata": {
    "id": "ZpINNNJGGmWU"
   },
   "outputs": [],
   "source": [
    "def create_binary_model(input_):   \n",
    "    tf.keras.backend.clear_session()\n",
    "    tf.random.set_seed(7)\n",
    "    inputs = keras.Input(shape=(input_.shape[1],))\n",
    "    x = tf.keras.layers.Dense(5, activation=tf.nn.tanh)(inputs)\n",
    "    outputs = tf.keras.layers.Dense(1, activation=tf.nn.sigmoid)(x)\n",
    "    model = tf.keras.Model(inputs=inputs, outputs=outputs)\n",
    "    model.compile(loss = 'binary_crossentropy', metrics=['accuracy'],optimizer='Adamax')\n",
    "    return model\n",
    "\n",
    "def create_class_model(input_,output_):\n",
    "    tf.keras.backend.clear_session()\n",
    "    tf.random.set_seed(7)\n",
    "    inputs = keras.Input(shape=(input_.shape[1],))\n",
    "    x = tf.keras.layers.Dense(15, activation=tf.nn.tanh)(inputs) \n",
    "    x = tf.keras.layers.Dropout(0.2)(x)\n",
    "    outputs = tf.keras.layers.Dense(output_.shape[1], activation=tf.nn.softmax)(x)\n",
    "    model = tf.keras.Model(inputs=inputs, outputs=outputs)\n",
    "    model.compile(loss = 'categorical_crossentropy', metrics=['accuracy'],optimizer='Adam')\n",
    "    return model"
   ]
  },
  {
   "cell_type": "markdown",
   "id": "AB7zzIhxdSXN",
   "metadata": {
    "id": "AB7zzIhxdSXN"
   },
   "source": [
    "### Results"
   ]
  },
  {
   "cell_type": "markdown",
   "id": "zo4Uxd4BAs7N",
   "metadata": {
    "id": "zo4Uxd4BAs7N"
   },
   "source": [
    "#### Predicting stick to default(begining stage)"
   ]
  },
  {
   "cell_type": "code",
   "execution_count": 25,
   "id": "Skmn538tApbn",
   "metadata": {
    "colab": {
     "base_uri": "https://localhost:8080/"
    },
    "id": "Skmn538tApbn",
    "outputId": "d8c17098-6445-46ae-c42b-f5dfc15b9bc2"
   },
   "outputs": [
    {
     "data": {
      "text/plain": [
       "(949, 50)"
      ]
     },
     "execution_count": 25,
     "metadata": {},
     "output_type": "execute_result"
    }
   ],
   "source": [
    "input_ = pd.concat([begin_info,experiment_con],axis=1)\n",
    "input_.describe()\n",
    "input_std = preprocessing.StandardScaler().fit_transform(input_)\n",
    "input_.shape"
   ]
  },
  {
   "cell_type": "code",
   "execution_count": 26,
   "id": "LjDi_NVHBI5j",
   "metadata": {
    "colab": {
     "base_uri": "https://localhost:8080/",
     "height": 282
    },
    "id": "LjDi_NVHBI5j",
    "outputId": "e9aab9b3-be0f-44c2-d616-711c5e61f760"
   },
   "outputs": [
    {
     "data": {
      "image/png": "[encoded data removed]",
      "text/plain": [
       "<Figure size 864x288 with 2 Axes>"
      ]
     },
     "metadata": {
      "needs_background": "light"
     },
     "output_type": "display_data"
    }
   ],
   "source": [
    "plot_all(input_std,50)"
   ]
  },
  {
   "cell_type": "code",
   "execution_count": 27,
   "id": "6X3iLJ0oQNAb",
   "metadata": {
    "colab": {
     "base_uri": "https://localhost:8080/"
    },
    "id": "6X3iLJ0oQNAb",
    "outputId": "fea8254a-119b-4c6a-a694-813f13e9d59b"
   },
   "outputs": [
    {
     "data": {
      "text/plain": [
       "(664, 30)"
      ]
     },
     "execution_count": 27,
     "metadata": {},
     "output_type": "execute_result"
    }
   ],
   "source": [
    "X = KernelPCA(n_components=30, kernel='poly').fit_transform(input_std)\n",
    "X_train,X_test,y_train,y_test = train_test_split(X,df['changed_cbn_jan'],test_size=0.3, random_state=42)\n",
    "X_train.shape"
   ]
  },
  {
   "cell_type": "markdown",
   "id": "G2u26D5KQ0J_",
   "metadata": {
    "id": "G2u26D5KQ0J_"
   },
   "source": [
    "##### Models"
   ]
  },
  {
   "cell_type": "markdown",
   "id": "Nc98VUtoFbGc",
   "metadata": {
    "id": "Nc98VUtoFbGc"
   },
   "source": [
    "###### Logistic Regression"
   ]
  },
  {
   "cell_type": "code",
   "execution_count": 28,
   "id": "a5750c8c",
   "metadata": {},
   "outputs": [
    {
     "name": "stderr",
     "output_type": "stream",
     "text": [
      "lbfgs failed to converge (status=1):\n",
      "STOP: TOTAL NO. of ITERATIONS REACHED LIMIT.\n",
      "\n",
      "Increase the number of iterations (max_iter) or scale the data as shown in:\n",
      "    https://scikit-learn.org/stable/modules/preprocessing.html\n",
      "Please also refer to the documentation for alternative solver options:\n",
      "    https://scikit-learn.org/stable/modules/linear_model.html#logistic-regression\n"
     ]
    },
    {
     "data": {
      "text/plain": [
       "(0.6350877192982456, LogisticRegression(random_state=42))"
      ]
     },
     "execution_count": 28,
     "metadata": {},
     "output_type": "execute_result"
    }
   ],
   "source": [
    "LR(input_,df['changed_cbn_jan'])"
   ]
  },
  {
   "cell_type": "code",
   "execution_count": 29,
   "id": "dc0943a2",
   "metadata": {},
   "outputs": [
    {
     "data": {
      "text/plain": [
       "(0.6456140350877193, LogisticRegression(random_state=42))"
      ]
     },
     "execution_count": 29,
     "metadata": {},
     "output_type": "execute_result"
    }
   ],
   "source": [
    "LR(input_std,df['changed_cbn_jan'])"
   ]
  },
  {
   "cell_type": "code",
   "execution_count": 30,
   "id": "143b692f",
   "metadata": {
    "colab": {
     "base_uri": "https://localhost:8080/"
    },
    "id": "143b692f",
    "outputId": "2da8e0b9-2ffb-4f46-80d1-720a4c273925"
   },
   "outputs": [
    {
     "data": {
      "text/plain": [
       "(0.624561403508772, LogisticRegression(random_state=42))"
      ]
     },
     "execution_count": 30,
     "metadata": {},
     "output_type": "execute_result"
    }
   ],
   "source": [
    "LR(X,df['changed_cbn_jan'])"
   ]
  },
  {
   "cell_type": "markdown",
   "id": "q-tfPz6TFjbM",
   "metadata": {
    "id": "q-tfPz6TFjbM"
   },
   "source": [
    "###### Decision Tree"
   ]
  },
  {
   "cell_type": "code",
   "execution_count": 31,
   "id": "95ba8e6a",
   "metadata": {},
   "outputs": [
    {
     "data": {
      "text/plain": [
       "({'criterion': 'entropy', 'max_depth': 5, 'splitter': 'best'},\n",
       " 0.8,\n",
       " DecisionTreeClassifier(criterion='entropy', max_depth=5, random_state=42))"
      ]
     },
     "execution_count": 31,
     "metadata": {},
     "output_type": "execute_result"
    }
   ],
   "source": [
    "DT(input_,df['changed_cbn_jan'])"
   ]
  },
  {
   "cell_type": "code",
   "execution_count": 32,
   "id": "e8947230",
   "metadata": {},
   "outputs": [
    {
     "data": {
      "text/plain": [
       "({'criterion': 'entropy', 'max_depth': 5, 'splitter': 'best'},\n",
       " 0.8,\n",
       " DecisionTreeClassifier(criterion='entropy', max_depth=5, random_state=42))"
      ]
     },
     "execution_count": 32,
     "metadata": {},
     "output_type": "execute_result"
    }
   ],
   "source": [
    "DT(input_std,df['changed_cbn_jan'])"
   ]
  },
  {
   "cell_type": "code",
   "execution_count": 33,
   "id": "EruZf56jWOR_",
   "metadata": {
    "colab": {
     "base_uri": "https://localhost:8080/"
    },
    "id": "EruZf56jWOR_",
    "outputId": "71e60f04-03c3-454f-bcad-5444a0bfba99"
   },
   "outputs": [
    {
     "data": {
      "text/plain": [
       "({'criterion': 'gini', 'max_depth': 5, 'splitter': 'random'},\n",
       " 0.6385964912280702,\n",
       " DecisionTreeClassifier(max_depth=5, random_state=42, splitter='random'))"
      ]
     },
     "execution_count": 33,
     "metadata": {},
     "output_type": "execute_result"
    }
   ],
   "source": [
    "DT(X,df['changed_cbn_jan'])"
   ]
  },
  {
   "cell_type": "markdown",
   "id": "7fneyD_yFpTu",
   "metadata": {
    "id": "7fneyD_yFpTu"
   },
   "source": [
    "###### Random Forest"
   ]
  },
  {
   "cell_type": "code",
   "execution_count": 34,
   "id": "e70f520c",
   "metadata": {},
   "outputs": [
    {
     "data": {
      "text/plain": [
       "({'criterion': 'entropy', 'max_depth': 12, 'n_estimators': 119},\n",
       " 0.7087719298245614,\n",
       " RandomForestClassifier(criterion='entropy', max_depth=12, n_estimators=119,\n",
       "                        random_state=42))"
      ]
     },
     "execution_count": 34,
     "metadata": {},
     "output_type": "execute_result"
    }
   ],
   "source": [
    "RF(input_,df['changed_cbn_jan'])"
   ]
  },
  {
   "cell_type": "code",
   "execution_count": 35,
   "id": "47d49a8f",
   "metadata": {},
   "outputs": [
    {
     "data": {
      "text/plain": [
       "({'criterion': 'entropy', 'max_depth': 14, 'n_estimators': 115},\n",
       " 0.7298245614035088,\n",
       " RandomForestClassifier(criterion='entropy', max_depth=14, n_estimators=115,\n",
       "                        random_state=42))"
      ]
     },
     "execution_count": 35,
     "metadata": {},
     "output_type": "execute_result"
    }
   ],
   "source": [
    "RF(input_std,df['changed_cbn_jan'])"
   ]
  },
  {
   "cell_type": "code",
   "execution_count": 36,
   "id": "eceb7dfc",
   "metadata": {
    "colab": {
     "base_uri": "https://localhost:8080/"
    },
    "id": "eceb7dfc",
    "outputId": "c3637077-f92c-4d35-e111-7ea7a17f90cc"
   },
   "outputs": [
    {
     "data": {
      "text/plain": [
       "({'criterion': 'entropy', 'max_depth': 12, 'n_estimators': 96},\n",
       " 0.6526315789473685,\n",
       " RandomForestClassifier(criterion='entropy', max_depth=12, n_estimators=96,\n",
       "                        random_state=42))"
      ]
     },
     "execution_count": 36,
     "metadata": {},
     "output_type": "execute_result"
    }
   ],
   "source": [
    "RF(X,df['changed_cbn_jan'])"
   ]
  },
  {
   "cell_type": "markdown",
   "id": "kiABcihMFtGC",
   "metadata": {
    "id": "kiABcihMFtGC"
   },
   "source": [
    "###### Neural Network"
   ]
  },
  {
   "cell_type": "code",
   "execution_count": 38,
   "id": "irHSjWqhGYKf",
   "metadata": {
    "id": "irHSjWqhGYKf"
   },
   "outputs": [],
   "source": [
    "from tensorflow.keras.models import Sequential\n",
    "from tensorflow.keras.layers import Dense\n",
    "def create_model(optimizer='Adam'):\n",
    "    tf.keras.backend.clear_session()\n",
    "    model = Sequential()\n",
    "    model.add(Dense(3, input_shape=(50,), activation='softmax'))\n",
    "    model.add(Dense(1, kernel_initializer='uniform', activation='sigmoid'))\n",
    "    model.compile(loss = 'binary_crossentropy', metrics=['accuracy'],optimizer=optimizer)\n",
    "    return model\n",
    "tf.random.set_seed(7)\n",
    "activation = ['softmax', 'softplus', 'softsign', 'relu', 'tanh', 'sigmoid', 'hard_sigmoid', 'linear']\n",
    "neurons = [3,5,7, 10,12, 15,17,20]\n",
    "optimizer = ['SGD', 'RMSprop', 'Adagrad', 'Adadelta', 'Adam', 'Adamax', 'Nadam']\n",
    "model = KerasClassifier(model=create_model,\n",
    "                       loss=\"binary_crossentropy\",metrics='accuracy', epochs=5, batch_size=50, verbose=0)\n",
    "#param_grid = dict(model__neurons=neurons)\n",
    "#param_grid = dict(model__activation=activation)\n",
    "param_grid = dict(model__optimizer=optimizer)\n",
    "grid = GridSearchCV(estimator=model, param_grid=param_grid,scoring='accuracy', n_jobs=5, cv=3)"
   ]
  },
  {
   "cell_type": "code",
   "execution_count": 39,
   "id": "f2f9df3a",
   "metadata": {},
   "outputs": [
    {
     "name": "stdout",
     "output_type": "stream",
     "text": [
      "{'model__optimizer': 'SGD'} 0.6626513391219273\n"
     ]
    }
   ],
   "source": [
    "# tuning neruons\n",
    "X_train,X_test,y_train,y_test = train_test_split(input_,df['changed_cbn_jan'],test_size=0.3, random_state=42)\n",
    "grid_result = grid.fit(X_train,y_train)\n",
    "print(grid_result.best_params_,grid_result.best_score_)"
   ]
  },
  {
   "cell_type": "code",
   "execution_count": 40,
   "id": "cb7e5308",
   "metadata": {},
   "outputs": [
    {
     "name": "stdout",
     "output_type": "stream",
     "text": [
      "{'model__optimizer': 'SGD'} 0.6626513391219273\n"
     ]
    }
   ],
   "source": [
    "# tuning activation\n",
    "grid_result = grid.fit(X_train,y_train)\n",
    "print(grid_result.best_params_,grid_result.best_score_)"
   ]
  },
  {
   "cell_type": "code",
   "execution_count": 41,
   "id": "d5c4e46f",
   "metadata": {},
   "outputs": [
    {
     "name": "stdout",
     "output_type": "stream",
     "text": [
      "{'model__optimizer': 'SGD'} 0.6626513391219273\n"
     ]
    }
   ],
   "source": [
    "# tuning optimizer\n",
    "grid_result = grid.fit(X_train,y_train)\n",
    "print(grid_result.best_params_,grid_result.best_score_)"
   ]
  },
  {
   "cell_type": "code",
   "execution_count": 42,
   "id": "2f51ad9a",
   "metadata": {},
   "outputs": [],
   "source": [
    "def create_binary_model(input_):   \n",
    "    tf.keras.backend.clear_session()\n",
    "    tf.random.set_seed(7)\n",
    "    inputs = keras.Input(shape=(input_.shape[1],))\n",
    "    x = tf.keras.layers.Dense(7, activation=tf.nn.softmax)(inputs)\n",
    "    outputs = tf.keras.layers.Dense(1, activation=tf.nn.sigmoid)(x)\n",
    "    model = tf.keras.Model(inputs=inputs, outputs=outputs)\n",
    "    model.compile(loss = 'binary_crossentropy', metrics=['accuracy'],optimizer='Adam')\n",
    "    return model"
   ]
  },
  {
   "cell_type": "code",
   "execution_count": 43,
   "id": "c19cd363",
   "metadata": {
    "colab": {
     "base_uri": "https://localhost:8080/"
    },
    "id": "c19cd363",
    "outputId": "740b45da-191d-48a4-f05b-b3ad04e10af9",
    "scrolled": false
   },
   "outputs": [
    {
     "name": "stdout",
     "output_type": "stream",
     "text": [
      "Epoch 1/5\n",
      "12/12 [==============================] - 1s 19ms/step - loss: 0.6756 - accuracy: 0.6482 - val_loss: 0.6978 - val_accuracy: 0.4925\n",
      "Epoch 2/5\n",
      "12/12 [==============================] - 0s 4ms/step - loss: 0.6711 - accuracy: 0.6566 - val_loss: 0.6971 - val_accuracy: 0.5075\n",
      "Epoch 3/5\n",
      "12/12 [==============================] - 0s 4ms/step - loss: 0.6669 - accuracy: 0.6583 - val_loss: 0.6967 - val_accuracy: 0.5075\n",
      "Epoch 4/5\n",
      "12/12 [==============================] - 0s 4ms/step - loss: 0.6627 - accuracy: 0.6683 - val_loss: 0.6963 - val_accuracy: 0.5224\n",
      "Epoch 5/5\n",
      "12/12 [==============================] - 0s 5ms/step - loss: 0.6589 - accuracy: 0.6717 - val_loss: 0.6961 - val_accuracy: 0.5373\n",
      "9/9 [==============================] - 0s 1ms/step - loss: 0.6616 - accuracy: 0.6456\n"
     ]
    },
    {
     "data": {
      "text/plain": [
       "(0.6456140279769897, <keras.engine.functional.Functional at 0x276378dd070>)"
      ]
     },
     "execution_count": 43,
     "metadata": {},
     "output_type": "execute_result"
    }
   ],
   "source": [
    "NN_bi(X,df['changed_cbn_jan'])"
   ]
  },
  {
   "cell_type": "code",
   "execution_count": 44,
   "id": "39cb4a0d",
   "metadata": {},
   "outputs": [
    {
     "name": "stdout",
     "output_type": "stream",
     "text": [
      "Epoch 1/5\n",
      "12/12 [==============================] - 1s 13ms/step - loss: 0.6750 - accuracy: 0.6064 - val_loss: 0.6831 - val_accuracy: 0.5821\n",
      "Epoch 2/5\n",
      "12/12 [==============================] - 0s 4ms/step - loss: 0.6689 - accuracy: 0.6265 - val_loss: 0.6817 - val_accuracy: 0.5672\n",
      "Epoch 3/5\n",
      "12/12 [==============================] - 0s 3ms/step - loss: 0.6636 - accuracy: 0.6365 - val_loss: 0.6804 - val_accuracy: 0.5522\n",
      "Epoch 4/5\n",
      "12/12 [==============================] - 0s 3ms/step - loss: 0.6585 - accuracy: 0.6566 - val_loss: 0.6794 - val_accuracy: 0.5522\n",
      "Epoch 5/5\n",
      "12/12 [==============================] - 0s 3ms/step - loss: 0.6537 - accuracy: 0.6717 - val_loss: 0.6785 - val_accuracy: 0.5373\n",
      "9/9 [==============================] - 0s 1ms/step - loss: 0.6565 - accuracy: 0.6421\n"
     ]
    },
    {
     "data": {
      "text/plain": [
       "(0.6421052813529968, <keras.engine.functional.Functional at 0x276379eb190>)"
      ]
     },
     "execution_count": 44,
     "metadata": {},
     "output_type": "execute_result"
    }
   ],
   "source": [
    "NN_bi(input_std,df['changed_cbn_jan'])"
   ]
  },
  {
   "cell_type": "markdown",
   "id": "SMbWRqsWvzoQ",
   "metadata": {
    "id": "SMbWRqsWvzoQ"
   },
   "source": [
    "##### Explanation"
   ]
  },
  {
   "cell_type": "code",
   "execution_count": 45,
   "id": "JSamLEPqSFav",
   "metadata": {
    "colab": {
     "base_uri": "https://localhost:8080/",
     "height": 488
    },
    "id": "JSamLEPqSFav",
    "outputId": "84dbd52b-4b4c-4930-c2bd-ccc93b1df301"
   },
   "outputs": [
    {
     "data": {
      "text/html": [
       "<div>\n",
       "<style scoped>\n",
       "    .dataframe tbody tr th:only-of-type {\n",
       "        vertical-align: middle;\n",
       "    }\n",
       "\n",
       "    .dataframe tbody tr th {\n",
       "        vertical-align: top;\n",
       "    }\n",
       "\n",
       "    .dataframe thead th {\n",
       "        text-align: right;\n",
       "    }\n",
       "</style>\n",
       "<table border=\"1\" class=\"dataframe\">\n",
       "  <thead>\n",
       "    <tr style=\"text-align: right;\">\n",
       "      <th></th>\n",
       "      <th>education_level</th>\n",
       "      <th>missed_meals</th>\n",
       "      <th>withdraw_entire_salary</th>\n",
       "      <th>total_savings</th>\n",
       "      <th>uses_bank</th>\n",
       "      <th>male</th>\n",
       "      <th>bank_savings</th>\n",
       "      <th>cash_savings</th>\n",
       "      <th>loans_given</th>\n",
       "      <th>mpaisa_savings</th>\n",
       "      <th>...</th>\n",
       "      <th>asset_car</th>\n",
       "      <th>asset_sewing</th>\n",
       "      <th>asset_livestock</th>\n",
       "      <th>tenure</th>\n",
       "      <th>salary_jan</th>\n",
       "      <th>default_contribution</th>\n",
       "      <th>participates</th>\n",
       "      <th>low</th>\n",
       "      <th>med</th>\n",
       "      <th>high</th>\n",
       "    </tr>\n",
       "  </thead>\n",
       "  <tbody>\n",
       "    <tr>\n",
       "      <th>199</th>\n",
       "      <td>0.0</td>\n",
       "      <td>0.0</td>\n",
       "      <td>0.0</td>\n",
       "      <td>0.0</td>\n",
       "      <td>0.004434</td>\n",
       "      <td>0.0</td>\n",
       "      <td>0.0</td>\n",
       "      <td>-0.001353</td>\n",
       "      <td>0.0</td>\n",
       "      <td>0.0</td>\n",
       "      <td>...</td>\n",
       "      <td>0.0</td>\n",
       "      <td>-0.000679</td>\n",
       "      <td>0.0</td>\n",
       "      <td>0.0</td>\n",
       "      <td>0.012516</td>\n",
       "      <td>-0.172550</td>\n",
       "      <td>-0.224496</td>\n",
       "      <td>-0.144306</td>\n",
       "      <td>0.0</td>\n",
       "      <td>-0.001217</td>\n",
       "    </tr>\n",
       "    <tr>\n",
       "      <th>660</th>\n",
       "      <td>0.0</td>\n",
       "      <td>0.0</td>\n",
       "      <td>0.0</td>\n",
       "      <td>0.0</td>\n",
       "      <td>-0.018990</td>\n",
       "      <td>0.0</td>\n",
       "      <td>0.0</td>\n",
       "      <td>-0.003547</td>\n",
       "      <td>0.0</td>\n",
       "      <td>0.0</td>\n",
       "      <td>...</td>\n",
       "      <td>0.0</td>\n",
       "      <td>-0.003357</td>\n",
       "      <td>0.0</td>\n",
       "      <td>0.0</td>\n",
       "      <td>0.008589</td>\n",
       "      <td>-0.215667</td>\n",
       "      <td>0.006147</td>\n",
       "      <td>-0.103648</td>\n",
       "      <td>0.0</td>\n",
       "      <td>-0.003192</td>\n",
       "    </tr>\n",
       "    <tr>\n",
       "      <th>692</th>\n",
       "      <td>0.0</td>\n",
       "      <td>0.0</td>\n",
       "      <td>0.0</td>\n",
       "      <td>0.0</td>\n",
       "      <td>0.009059</td>\n",
       "      <td>0.0</td>\n",
       "      <td>0.0</td>\n",
       "      <td>-0.001131</td>\n",
       "      <td>0.0</td>\n",
       "      <td>0.0</td>\n",
       "      <td>...</td>\n",
       "      <td>0.0</td>\n",
       "      <td>-0.000540</td>\n",
       "      <td>0.0</td>\n",
       "      <td>0.0</td>\n",
       "      <td>-0.134171</td>\n",
       "      <td>-0.046805</td>\n",
       "      <td>-0.018890</td>\n",
       "      <td>0.047941</td>\n",
       "      <td>0.0</td>\n",
       "      <td>-0.001017</td>\n",
       "    </tr>\n",
       "    <tr>\n",
       "      <th>737</th>\n",
       "      <td>0.0</td>\n",
       "      <td>0.0</td>\n",
       "      <td>0.0</td>\n",
       "      <td>0.0</td>\n",
       "      <td>0.011207</td>\n",
       "      <td>0.0</td>\n",
       "      <td>0.0</td>\n",
       "      <td>-0.003547</td>\n",
       "      <td>0.0</td>\n",
       "      <td>0.0</td>\n",
       "      <td>...</td>\n",
       "      <td>0.0</td>\n",
       "      <td>-0.003357</td>\n",
       "      <td>0.0</td>\n",
       "      <td>0.0</td>\n",
       "      <td>-0.015980</td>\n",
       "      <td>-0.240606</td>\n",
       "      <td>-0.073008</td>\n",
       "      <td>0.010914</td>\n",
       "      <td>0.0</td>\n",
       "      <td>-0.003192</td>\n",
       "    </tr>\n",
       "    <tr>\n",
       "      <th>774</th>\n",
       "      <td>0.0</td>\n",
       "      <td>0.0</td>\n",
       "      <td>0.0</td>\n",
       "      <td>0.0</td>\n",
       "      <td>0.004434</td>\n",
       "      <td>0.0</td>\n",
       "      <td>0.0</td>\n",
       "      <td>0.010816</td>\n",
       "      <td>0.0</td>\n",
       "      <td>0.0</td>\n",
       "      <td>...</td>\n",
       "      <td>0.0</td>\n",
       "      <td>-0.000627</td>\n",
       "      <td>0.0</td>\n",
       "      <td>0.0</td>\n",
       "      <td>-0.027216</td>\n",
       "      <td>0.087671</td>\n",
       "      <td>0.253672</td>\n",
       "      <td>0.030682</td>\n",
       "      <td>0.0</td>\n",
       "      <td>0.015383</td>\n",
       "    </tr>\n",
       "    <tr>\n",
       "      <th>...</th>\n",
       "      <td>...</td>\n",
       "      <td>...</td>\n",
       "      <td>...</td>\n",
       "      <td>...</td>\n",
       "      <td>...</td>\n",
       "      <td>...</td>\n",
       "      <td>...</td>\n",
       "      <td>...</td>\n",
       "      <td>...</td>\n",
       "      <td>...</td>\n",
       "      <td>...</td>\n",
       "      <td>...</td>\n",
       "      <td>...</td>\n",
       "      <td>...</td>\n",
       "      <td>...</td>\n",
       "      <td>...</td>\n",
       "      <td>...</td>\n",
       "      <td>...</td>\n",
       "      <td>...</td>\n",
       "      <td>...</td>\n",
       "      <td>...</td>\n",
       "    </tr>\n",
       "    <tr>\n",
       "      <th>552</th>\n",
       "      <td>0.0</td>\n",
       "      <td>0.0</td>\n",
       "      <td>0.0</td>\n",
       "      <td>0.0</td>\n",
       "      <td>0.011207</td>\n",
       "      <td>0.0</td>\n",
       "      <td>0.0</td>\n",
       "      <td>-0.025251</td>\n",
       "      <td>0.0</td>\n",
       "      <td>0.0</td>\n",
       "      <td>...</td>\n",
       "      <td>0.0</td>\n",
       "      <td>0.021544</td>\n",
       "      <td>0.0</td>\n",
       "      <td>0.0</td>\n",
       "      <td>0.016247</td>\n",
       "      <td>-0.267389</td>\n",
       "      <td>0.005915</td>\n",
       "      <td>0.011177</td>\n",
       "      <td>0.0</td>\n",
       "      <td>-0.021521</td>\n",
       "    </tr>\n",
       "    <tr>\n",
       "      <th>678</th>\n",
       "      <td>0.0</td>\n",
       "      <td>0.0</td>\n",
       "      <td>0.0</td>\n",
       "      <td>0.0</td>\n",
       "      <td>0.009059</td>\n",
       "      <td>0.0</td>\n",
       "      <td>0.0</td>\n",
       "      <td>-0.002763</td>\n",
       "      <td>0.0</td>\n",
       "      <td>0.0</td>\n",
       "      <td>...</td>\n",
       "      <td>0.0</td>\n",
       "      <td>-0.000377</td>\n",
       "      <td>0.0</td>\n",
       "      <td>0.0</td>\n",
       "      <td>-0.033926</td>\n",
       "      <td>-0.069985</td>\n",
       "      <td>-0.034262</td>\n",
       "      <td>0.038448</td>\n",
       "      <td>0.0</td>\n",
       "      <td>0.003384</td>\n",
       "    </tr>\n",
       "    <tr>\n",
       "      <th>616</th>\n",
       "      <td>0.0</td>\n",
       "      <td>0.0</td>\n",
       "      <td>0.0</td>\n",
       "      <td>0.0</td>\n",
       "      <td>-0.025538</td>\n",
       "      <td>0.0</td>\n",
       "      <td>0.0</td>\n",
       "      <td>-0.001688</td>\n",
       "      <td>0.0</td>\n",
       "      <td>0.0</td>\n",
       "      <td>...</td>\n",
       "      <td>0.0</td>\n",
       "      <td>-0.000968</td>\n",
       "      <td>0.0</td>\n",
       "      <td>0.0</td>\n",
       "      <td>0.013809</td>\n",
       "      <td>0.290954</td>\n",
       "      <td>0.309394</td>\n",
       "      <td>-0.107862</td>\n",
       "      <td>0.0</td>\n",
       "      <td>-0.001519</td>\n",
       "    </tr>\n",
       "    <tr>\n",
       "      <th>404</th>\n",
       "      <td>0.0</td>\n",
       "      <td>0.0</td>\n",
       "      <td>0.0</td>\n",
       "      <td>0.0</td>\n",
       "      <td>-0.018990</td>\n",
       "      <td>0.0</td>\n",
       "      <td>0.0</td>\n",
       "      <td>0.005675</td>\n",
       "      <td>0.0</td>\n",
       "      <td>0.0</td>\n",
       "      <td>...</td>\n",
       "      <td>0.0</td>\n",
       "      <td>-0.003357</td>\n",
       "      <td>0.0</td>\n",
       "      <td>0.0</td>\n",
       "      <td>0.001919</td>\n",
       "      <td>-0.213598</td>\n",
       "      <td>0.007215</td>\n",
       "      <td>-0.100298</td>\n",
       "      <td>0.0</td>\n",
       "      <td>-0.016233</td>\n",
       "    </tr>\n",
       "    <tr>\n",
       "      <th>228</th>\n",
       "      <td>0.0</td>\n",
       "      <td>0.0</td>\n",
       "      <td>0.0</td>\n",
       "      <td>0.0</td>\n",
       "      <td>0.011207</td>\n",
       "      <td>0.0</td>\n",
       "      <td>0.0</td>\n",
       "      <td>-0.003547</td>\n",
       "      <td>0.0</td>\n",
       "      <td>0.0</td>\n",
       "      <td>...</td>\n",
       "      <td>0.0</td>\n",
       "      <td>-0.003357</td>\n",
       "      <td>0.0</td>\n",
       "      <td>0.0</td>\n",
       "      <td>-0.019409</td>\n",
       "      <td>-0.250154</td>\n",
       "      <td>-0.082557</td>\n",
       "      <td>0.012315</td>\n",
       "      <td>0.0</td>\n",
       "      <td>-0.003192</td>\n",
       "    </tr>\n",
       "  </tbody>\n",
       "</table>\n",
       "<p>285 rows × 50 columns</p>\n",
       "</div>"
      ],
      "text/plain": [
       "     education_level  missed_meals  withdraw_entire_salary  total_savings  \\\n",
       "199              0.0           0.0                     0.0            0.0   \n",
       "660              0.0           0.0                     0.0            0.0   \n",
       "692              0.0           0.0                     0.0            0.0   \n",
       "737              0.0           0.0                     0.0            0.0   \n",
       "774              0.0           0.0                     0.0            0.0   \n",
       "..               ...           ...                     ...            ...   \n",
       "552              0.0           0.0                     0.0            0.0   \n",
       "678              0.0           0.0                     0.0            0.0   \n",
       "616              0.0           0.0                     0.0            0.0   \n",
       "404              0.0           0.0                     0.0            0.0   \n",
       "228              0.0           0.0                     0.0            0.0   \n",
       "\n",
       "     uses_bank  male  bank_savings  cash_savings  loans_given  mpaisa_savings  \\\n",
       "199   0.004434   0.0           0.0     -0.001353          0.0             0.0   \n",
       "660  -0.018990   0.0           0.0     -0.003547          0.0             0.0   \n",
       "692   0.009059   0.0           0.0     -0.001131          0.0             0.0   \n",
       "737   0.011207   0.0           0.0     -0.003547          0.0             0.0   \n",
       "774   0.004434   0.0           0.0      0.010816          0.0             0.0   \n",
       "..         ...   ...           ...           ...          ...             ...   \n",
       "552   0.011207   0.0           0.0     -0.025251          0.0             0.0   \n",
       "678   0.009059   0.0           0.0     -0.002763          0.0             0.0   \n",
       "616  -0.025538   0.0           0.0     -0.001688          0.0             0.0   \n",
       "404  -0.018990   0.0           0.0      0.005675          0.0             0.0   \n",
       "228   0.011207   0.0           0.0     -0.003547          0.0             0.0   \n",
       "\n",
       "     ...  asset_car  asset_sewing  asset_livestock  tenure  salary_jan  \\\n",
       "199  ...        0.0     -0.000679              0.0     0.0    0.012516   \n",
       "660  ...        0.0     -0.003357              0.0     0.0    0.008589   \n",
       "692  ...        0.0     -0.000540              0.0     0.0   -0.134171   \n",
       "737  ...        0.0     -0.003357              0.0     0.0   -0.015980   \n",
       "774  ...        0.0     -0.000627              0.0     0.0   -0.027216   \n",
       "..   ...        ...           ...              ...     ...         ...   \n",
       "552  ...        0.0      0.021544              0.0     0.0    0.016247   \n",
       "678  ...        0.0     -0.000377              0.0     0.0   -0.033926   \n",
       "616  ...        0.0     -0.000968              0.0     0.0    0.013809   \n",
       "404  ...        0.0     -0.003357              0.0     0.0    0.001919   \n",
       "228  ...        0.0     -0.003357              0.0     0.0   -0.019409   \n",
       "\n",
       "     default_contribution  participates       low  med      high  \n",
       "199             -0.172550     -0.224496 -0.144306  0.0 -0.001217  \n",
       "660             -0.215667      0.006147 -0.103648  0.0 -0.003192  \n",
       "692             -0.046805     -0.018890  0.047941  0.0 -0.001017  \n",
       "737             -0.240606     -0.073008  0.010914  0.0 -0.003192  \n",
       "774              0.087671      0.253672  0.030682  0.0  0.015383  \n",
       "..                    ...           ...       ...  ...       ...  \n",
       "552             -0.267389      0.005915  0.011177  0.0 -0.021521  \n",
       "678             -0.069985     -0.034262  0.038448  0.0  0.003384  \n",
       "616              0.290954      0.309394 -0.107862  0.0 -0.001519  \n",
       "404             -0.213598      0.007215 -0.100298  0.0 -0.016233  \n",
       "228             -0.250154     -0.082557  0.012315  0.0 -0.003192  \n",
       "\n",
       "[285 rows x 50 columns]"
      ]
     },
     "execution_count": 45,
     "metadata": {},
     "output_type": "execute_result"
    }
   ],
   "source": [
    "X_train,X_test,y_train,y_test = train_test_split(input_,df['changed_cbn_jan'],test_size=0.3, random_state=42)\n",
    "model = DT(input_,df['changed_cbn_jan'])[2]\n",
    "explainer = shap.Explainer(model)\n",
    "shap_test = explainer(X_test)\n",
    "shap_df = pd.DataFrame(shap_test.values[:,:,1], \n",
    "            columns=shap_test.feature_names, \n",
    "            index=X_test.index)\n",
    "shap_df"
   ]
  },
  {
   "cell_type": "code",
   "execution_count": 46,
   "id": "hMxu_rEfSVUG",
   "metadata": {
    "colab": {
     "base_uri": "https://localhost:8080/",
     "height": 418
    },
    "id": "hMxu_rEfSVUG",
    "outputId": "bd607007-922a-4487-a493-a84d0118761d"
   },
   "outputs": [
    {
     "data": {
      "image/png": "[encoded data removed]",
      "text/plain": [
       "<Figure size 576x468 with 1 Axes>"
      ]
     },
     "metadata": {},
     "output_type": "display_data"
    }
   ],
   "source": [
    "shap.plots.bar(shap_test[:,:,1])"
   ]
  },
  {
   "cell_type": "code",
   "execution_count": 47,
   "id": "96760420",
   "metadata": {
    "scrolled": true
   },
   "outputs": [
    {
     "data": {
      "image/png": "[encoded data removed]",
      "text/plain": [
       "<Figure size 576x684 with 2 Axes>"
      ]
     },
     "metadata": {
      "needs_background": "light"
     },
     "output_type": "display_data"
    }
   ],
   "source": [
    "fig=plt.gcf()\n",
    "shap.summary_plot(shap_test[:,:,1],show=False)\n",
    "plt.savefig('shap_distribution.png')"
   ]
  },
  {
   "cell_type": "code",
   "execution_count": 48,
   "id": "OJDxfgPRSoCL",
   "metadata": {
    "colab": {
     "base_uri": "https://localhost:8080/",
     "height": 444
    },
    "id": "OJDxfgPRSoCL",
    "outputId": "bcbffa5e-4da4-42e9-d7a2-bfe31b6e9c95"
   },
   "outputs": [
    {
     "data": {
      "image/png": "[encoded data removed]",
      "text/plain": [
       "<Figure size 576x468 with 3 Axes>"
      ]
     },
     "metadata": {},
     "output_type": "display_data"
    }
   ],
   "source": [
    "shap.plots.waterfall(shap_test[:,:,1][10])"
   ]
  },
  {
   "cell_type": "markdown",
   "id": "Jo9KjbJhuFME",
   "metadata": {
    "id": "Jo9KjbJhuFME"
   },
   "source": [
    "#### predicting staying at default/switching reason"
   ]
  },
  {
   "cell_type": "code",
   "execution_count": 50,
   "id": "dYkZcE4JuPaP",
   "metadata": {
    "id": "dYkZcE4JuPaP"
   },
   "outputs": [],
   "source": [
    "input_ = pd.concat([begin_info,experiment],axis=1)\n",
    "input_ = pd.concat([input_,consult],axis=1)\n",
    "input_ = pd.concat([input_,reasons],axis=1)\n",
    "input_ = input_.loc[input_['sum']>0]"
   ]
  },
  {
   "cell_type": "code",
   "execution_count": 51,
   "id": "xyYLCtX5xeGj",
   "metadata": {
    "colab": {
     "base_uri": "https://localhost:8080/"
    },
    "id": "xyYLCtX5xeGj",
    "outputId": "ca9b88a1-c831-470c-f717-3c2d0feb99ef"
   },
   "outputs": [
    {
     "data": {
      "text/plain": [
       "(645, 78)"
      ]
     },
     "execution_count": 51,
     "metadata": {},
     "output_type": "execute_result"
    }
   ],
   "source": [
    "output = ['p1_atdefault_reason1','p1_atdefault_reason6','switch_reason1',\n",
    "          'switch_reason2','switch_reason3','switch_reason10','switch_reason11']\n",
    "y = input_.loc[:,output]\n",
    "input_ = input_.iloc[:,:78]\n",
    "input_.shape"
   ]
  },
  {
   "cell_type": "code",
   "execution_count": 52,
   "id": "b2UKUT_IyhFR",
   "metadata": {
    "id": "b2UKUT_IyhFR"
   },
   "outputs": [],
   "source": [
    "input_std = preprocessing.StandardScaler().fit_transform(input_)"
   ]
  },
  {
   "cell_type": "code",
   "execution_count": 53,
   "id": "1b290aa5",
   "metadata": {
    "colab": {
     "base_uri": "https://localhost:8080/",
     "height": 282
    },
    "id": "1b290aa5",
    "outputId": "3352a043-151f-4781-fdca-8a4ce9de8afe"
   },
   "outputs": [
    {
     "data": {
      "image/png": "[encoded data removed]",
      "text/plain": [
       "<Figure size 864x288 with 2 Axes>"
      ]
     },
     "metadata": {
      "needs_background": "light"
     },
     "output_type": "display_data"
    }
   ],
   "source": [
    "plot_all(input_std,200)"
   ]
  },
  {
   "cell_type": "code",
   "execution_count": 54,
   "id": "dc7eccbc",
   "metadata": {},
   "outputs": [
    {
     "data": {
      "text/plain": [
       "(451, 50)"
      ]
     },
     "execution_count": 54,
     "metadata": {},
     "output_type": "execute_result"
    }
   ],
   "source": [
    "X = PCA(n_components=50).fit_transform(input_std)\n",
    "X_train,X_test,y_train,y_test = train_test_split(X,y,test_size=0.3, random_state=42)\n",
    "X_train.shape"
   ]
  },
  {
   "cell_type": "markdown",
   "id": "z7uEh3n8ymT2",
   "metadata": {
    "id": "z7uEh3n8ymT2"
   },
   "source": [
    "##### Models"
   ]
  },
  {
   "cell_type": "markdown",
   "id": "AxNTgJSI-UG-",
   "metadata": {
    "id": "AxNTgJSI-UG-"
   },
   "source": [
    "###### Decision Tree "
   ]
  },
  {
   "cell_type": "code",
   "execution_count": 55,
   "id": "a66927fb",
   "metadata": {},
   "outputs": [
    {
     "name": "stdout",
     "output_type": "stream",
     "text": [
      "(645, 78) (645, 7)\n"
     ]
    }
   ],
   "source": [
    "print(input_.shape,y.shape)"
   ]
  },
  {
   "cell_type": "code",
   "execution_count": 56,
   "id": "Ew0U82jyEoJo",
   "metadata": {
    "colab": {
     "base_uri": "https://localhost:8080/"
    },
    "id": "Ew0U82jyEoJo",
    "outputId": "01f4ca1f-d6e7-48fa-d490-4020c2457040"
   },
   "outputs": [],
   "source": [
    "DTo = DT(input_,y) #  predict with the original dataset"
   ]
  },
  {
   "cell_type": "code",
   "execution_count": 57,
   "id": "fc38c12f",
   "metadata": {},
   "outputs": [
    {
     "data": {
      "text/plain": [
       "({'criterion': 'gini', 'max_depth': 5, 'splitter': 'best'},\n",
       " 0.3711340206185567,\n",
       " DecisionTreeClassifier(max_depth=5, random_state=42))"
      ]
     },
     "execution_count": 57,
     "metadata": {},
     "output_type": "execute_result"
    }
   ],
   "source": [
    "DTo"
   ]
  },
  {
   "cell_type": "code",
   "execution_count": 58,
   "id": "b88cfbbf",
   "metadata": {},
   "outputs": [],
   "source": [
    "DTt = DT(X,y)  # predict with pca transoformed dataset"
   ]
  },
  {
   "cell_type": "code",
   "execution_count": 59,
   "id": "2c910a73",
   "metadata": {},
   "outputs": [
    {
     "data": {
      "text/plain": [
       "({'criterion': 'entropy', 'max_depth': 5, 'splitter': 'random'},\n",
       " 0.25773195876288657,\n",
       " DecisionTreeClassifier(criterion='entropy', max_depth=5, random_state=42,\n",
       "                        splitter='random'))"
      ]
     },
     "execution_count": 59,
     "metadata": {},
     "output_type": "execute_result"
    }
   ],
   "source": [
    "DTt"
   ]
  },
  {
   "cell_type": "markdown",
   "id": "0Aj164KQEzSb",
   "metadata": {
    "id": "0Aj164KQEzSb"
   },
   "source": [
    "###### Random Forest "
   ]
  },
  {
   "cell_type": "code",
   "execution_count": 62,
   "id": "974bddd9",
   "metadata": {},
   "outputs": [],
   "source": [
    "RFo = RF(input_,y)"
   ]
  },
  {
   "cell_type": "code",
   "execution_count": 63,
   "id": "30f3d85f",
   "metadata": {},
   "outputs": [
    {
     "data": {
      "text/plain": [
       "({'criterion': 'gini', 'max_depth': 5, 'n_estimators': 112},\n",
       " 0.3917525773195876,\n",
       " RandomForestClassifier(max_depth=5, n_estimators=112, random_state=42))"
      ]
     },
     "execution_count": 63,
     "metadata": {},
     "output_type": "execute_result"
    }
   ],
   "source": [
    "RFo"
   ]
  },
  {
   "cell_type": "code",
   "execution_count": 63,
   "id": "d99f7d58",
   "metadata": {},
   "outputs": [],
   "source": [
    "RFt = RF(X,y)"
   ]
  },
  {
   "cell_type": "code",
   "execution_count": 64,
   "id": "1710ca82",
   "metadata": {},
   "outputs": [
    {
     "data": {
      "text/plain": [
       "({'criterion': 'gini', 'max_depth': 7, 'n_estimators': 81},\n",
       " 0.30412371134020616,\n",
       " RandomForestClassifier(max_depth=7, n_estimators=81, random_state=42))"
      ]
     },
     "execution_count": 64,
     "metadata": {},
     "output_type": "execute_result"
    }
   ],
   "source": [
    "RFt"
   ]
  },
  {
   "cell_type": "markdown",
   "id": "lZYCzzNFHJ-H",
   "metadata": {
    "id": "lZYCzzNFHJ-H"
   },
   "source": [
    "###### Neural Networks"
   ]
  },
  {
   "cell_type": "code",
   "execution_count": 64,
   "id": "fe0ffe23",
   "metadata": {
    "id": "fe0ffe23"
   },
   "outputs": [],
   "source": [
    "from tensorflow.keras.models import Sequential\n",
    "from tensorflow.keras.layers import Dense\n",
    "def create_model(activation='softmax'):\n",
    "    tf.keras.backend.clear_session()\n",
    "    model = Sequential()\n",
    "    model.add(Dense(5, input_shape=(78,), activation=activation))\n",
    "    model.add(Dense(7, kernel_initializer='uniform', activation='softmax'))\n",
    "    model.compile(loss = 'categorical_crossentropy', metrics=['accuracy'],optimizer='SGD')\n",
    "    return model\n",
    "tf.random.set_seed(7)\n",
    "activation = ['softmax', 'softplus', 'softsign', 'relu', 'tanh', 'sigmoid', 'hard_sigmoid', 'linear']\n",
    "neurons = [3,5,7, 10,12, 15,17,20]\n",
    "optimizer = ['SGD', 'RMSprop', 'Adagrad', 'Adadelta', 'Adam', 'Adamax', 'Nadam']\n",
    "model = KerasClassifier(model=create_model,\n",
    "                       loss=\"categorical_crossentropy\",metrics='accuracy',epochs=5, batch_size=50, verbose=0)\n",
    "\n",
    "#param_grid = dict(model__neurons=neurons)\n",
    "param_grid = dict(model__activation=activation)\n",
    "#param_grid = dict(model__optimizer=optimizer)\n",
    "grid = GridSearchCV(estimator=model, param_grid=param_grid,scoring='accuracy', n_jobs=5, cv=3)"
   ]
  },
  {
   "cell_type": "code",
   "execution_count": 65,
   "id": "61c05701",
   "metadata": {
    "id": "61c05701"
   },
   "outputs": [
    {
     "name": "stdout",
     "output_type": "stream",
     "text": [
      "{'model__activation': 'softmax'} 0.243841059602649\n"
     ]
    }
   ],
   "source": [
    "X_train,X_test,y_train,y_test = train_test_split(input_std,y,test_size=0.3, random_state=42)# tuning neruons  with original dataset\n",
    "grid_result = grid.fit(X_train,y_train) \n",
    "print(grid_result.best_params_, grid_result.best_score_)"
   ]
  },
  {
   "cell_type": "code",
   "execution_count": 66,
   "id": "265d5974",
   "metadata": {
    "id": "265d5974",
    "outputId": "8c35f28d-504a-44c0-929e-84d351ec0eb5"
   },
   "outputs": [
    {
     "name": "stdout",
     "output_type": "stream",
     "text": [
      "{'model__activation': 'softmax'} 0.243841059602649\n"
     ]
    }
   ],
   "source": [
    "grid_result = grid.fit(X_train,y_train) # tuning activation \n",
    "print(grid_result.best_params_, grid_result.best_score_)"
   ]
  },
  {
   "cell_type": "code",
   "execution_count": 67,
   "id": "ae2fce91",
   "metadata": {
    "id": "ae2fce91",
    "outputId": "07568692-2b78-4fcf-d7f1-2ef83bcc5fda"
   },
   "outputs": [
    {
     "name": "stdout",
     "output_type": "stream",
     "text": [
      "{'model__activation': 'softmax'} 0.243841059602649\n"
     ]
    }
   ],
   "source": [
    "grid_result = grid.fit(X_train,y_train) # tuning opimizer \n",
    "print(grid_result.best_params_, grid_result.best_score_)"
   ]
  },
  {
   "cell_type": "code",
   "execution_count": 68,
   "id": "6c9b5d8d",
   "metadata": {},
   "outputs": [],
   "source": [
    "def create_class_model(input_,output_):\n",
    "    tf.keras.backend.clear_session()\n",
    "    tf.random.set_seed(7)\n",
    "    inputs = keras.Input(shape=(input_.shape[1],))\n",
    "    x = tf.keras.layers.Dense(5, activation=tf.nn.softmax)(inputs) \n",
    "    x = tf.keras.layers.Dropout(0.2)(x)\n",
    "    outputs = tf.keras.layers.Dense(output_.shape[1], activation=tf.nn.softmax)(x)\n",
    "    model = tf.keras.Model(inputs=inputs, outputs=outputs)\n",
    "    model.compile(loss = 'categorical_crossentropy', metrics=['accuracy'],optimizer='Adam')\n",
    "    return model"
   ]
  },
  {
   "cell_type": "code",
   "execution_count": 69,
   "id": "VIWvGAP4HU9S",
   "metadata": {
    "colab": {
     "base_uri": "https://localhost:8080/"
    },
    "id": "VIWvGAP4HU9S",
    "outputId": "7115c455-9912-45fc-b620-84c27fe65f75"
   },
   "outputs": [
    {
     "name": "stdout",
     "output_type": "stream",
     "text": [
      "Epoch 1/5\n",
      "9/9 [==============================] - 0s 22ms/step - loss: 1.8424 - accuracy: 0.2025 - val_loss: 1.9063 - val_accuracy: 0.1957\n",
      "Epoch 2/5\n",
      "9/9 [==============================] - 0s 4ms/step - loss: 1.8353 - accuracy: 0.1605 - val_loss: 1.9000 - val_accuracy: 0.1739\n",
      "Epoch 3/5\n",
      "9/9 [==============================] - 0s 5ms/step - loss: 1.8159 - accuracy: 0.1827 - val_loss: 1.8939 - val_accuracy: 0.1522\n",
      "Epoch 4/5\n",
      "9/9 [==============================] - 0s 5ms/step - loss: 1.8265 - accuracy: 0.1753 - val_loss: 1.8889 - val_accuracy: 0.1522\n",
      "Epoch 5/5\n",
      "9/9 [==============================] - 0s 4ms/step - loss: 1.8021 - accuracy: 0.1531 - val_loss: 1.8843 - val_accuracy: 0.1957\n",
      "7/7 [==============================] - 0s 1ms/step - loss: 1.8790 - accuracy: 0.2216\n"
     ]
    }
   ],
   "source": [
    "NNo = NN_mi(input_,y)"
   ]
  },
  {
   "cell_type": "code",
   "execution_count": 70,
   "id": "3b26b294",
   "metadata": {},
   "outputs": [
    {
     "name": "stdout",
     "output_type": "stream",
     "text": [
      "Model: \"model\"\n",
      "_________________________________________________________________\n",
      " Layer (type)                Output Shape              Param #   \n",
      "=================================================================\n",
      " input_1 (InputLayer)        [(None, 78)]              0         \n",
      "                                                                 \n",
      " dense (Dense)               (None, 5)                 395       \n",
      "                                                                 \n",
      " dropout (Dropout)           (None, 5)                 0         \n",
      "                                                                 \n",
      " dense_1 (Dense)             (None, 7)                 42        \n",
      "                                                                 \n",
      "=================================================================\n",
      "Total params: 437\n",
      "Trainable params: 437\n",
      "Non-trainable params: 0\n",
      "_________________________________________________________________\n"
     ]
    }
   ],
   "source": [
    "NNo[1].summary()"
   ]
  },
  {
   "cell_type": "code",
   "execution_count": 71,
   "id": "52ac217d",
   "metadata": {},
   "outputs": [
    {
     "name": "stdout",
     "output_type": "stream",
     "text": [
      "Epoch 1/5\n",
      "9/9 [==============================] - 0s 18ms/step - loss: 1.7970 - accuracy: 0.1630 - val_loss: 1.9556 - val_accuracy: 0.1739\n",
      "Epoch 2/5\n",
      "9/9 [==============================] - 0s 4ms/step - loss: 1.7959 - accuracy: 0.1605 - val_loss: 1.9447 - val_accuracy: 0.1739\n",
      "Epoch 3/5\n",
      "9/9 [==============================] - 0s 5ms/step - loss: 1.7773 - accuracy: 0.1852 - val_loss: 1.9342 - val_accuracy: 0.1522\n",
      "Epoch 4/5\n",
      "9/9 [==============================] - 0s 4ms/step - loss: 1.7790 - accuracy: 0.1753 - val_loss: 1.9244 - val_accuracy: 0.1522\n",
      "Epoch 5/5\n",
      "9/9 [==============================] - 0s 4ms/step - loss: 1.7552 - accuracy: 0.1679 - val_loss: 1.9148 - val_accuracy: 0.1522\n",
      "7/7 [==============================] - 0s 1ms/step - loss: 1.8453 - accuracy: 0.1907\n"
     ]
    }
   ],
   "source": [
    "NNt= NN_mi(X,y)"
   ]
  },
  {
   "cell_type": "code",
   "execution_count": 72,
   "id": "212b1432",
   "metadata": {},
   "outputs": [
    {
     "name": "stdout",
     "output_type": "stream",
     "text": [
      "Model: \"model\"\n",
      "_________________________________________________________________\n",
      " Layer (type)                Output Shape              Param #   \n",
      "=================================================================\n",
      " input_1 (InputLayer)        [(None, 50)]              0         \n",
      "                                                                 \n",
      " dense (Dense)               (None, 5)                 255       \n",
      "                                                                 \n",
      " dropout (Dropout)           (None, 5)                 0         \n",
      "                                                                 \n",
      " dense_1 (Dense)             (None, 7)                 42        \n",
      "                                                                 \n",
      "=================================================================\n",
      "Total params: 297\n",
      "Trainable params: 297\n",
      "Non-trainable params: 0\n",
      "_________________________________________________________________\n"
     ]
    }
   ],
   "source": [
    "NNt[1].summary()"
   ]
  },
  {
   "cell_type": "markdown",
   "id": "g1S8D4hty22i",
   "metadata": {
    "id": "g1S8D4hty22i"
   },
   "source": [
    "##### Explanation"
   ]
  },
  {
   "cell_type": "code",
   "execution_count": 73,
   "id": "fbceb0fd",
   "metadata": {},
   "outputs": [
    {
     "data": {
      "text/html": [
       "<style>#sk-container-id-1 {color: black;background-color: white;}#sk-container-id-1 pre{padding: 0;}#sk-container-id-1 div.sk-toggleable {background-color: white;}#sk-container-id-1 label.sk-toggleable__label {cursor: pointer;display: block;width: 100%;margin-bottom: 0;padding: 0.3em;box-sizing: border-box;text-align: center;}#sk-container-id-1 label.sk-toggleable__label-arrow:before {content: \"▸\";float: left;margin-right: 0.25em;color: #696969;}#sk-container-id-1 label.sk-toggleable__label-arrow:hover:before {color: black;}#sk-container-id-1 div.sk-estimator:hover label.sk-toggleable__label-arrow:before {color: black;}#sk-container-id-1 div.sk-toggleable__content {max-height: 0;max-width: 0;overflow: hidden;text-align: left;background-color: #f0f8ff;}#sk-container-id-1 div.sk-toggleable__content pre {margin: 0.2em;color: black;border-radius: 0.25em;background-color: #f0f8ff;}#sk-container-id-1 input.sk-toggleable__control:checked~div.sk-toggleable__content {max-height: 200px;max-width: 100%;overflow: auto;}#sk-container-id-1 input.sk-toggleable__control:checked~label.sk-toggleable__label-arrow:before {content: \"▾\";}#sk-container-id-1 div.sk-estimator input.sk-toggleable__control:checked~label.sk-toggleable__label {background-color: #d4ebff;}#sk-container-id-1 div.sk-label input.sk-toggleable__control:checked~label.sk-toggleable__label {background-color: #d4ebff;}#sk-container-id-1 input.sk-hidden--visually {border: 0;clip: rect(1px 1px 1px 1px);clip: rect(1px, 1px, 1px, 1px);height: 1px;margin: -1px;overflow: hidden;padding: 0;position: absolute;width: 1px;}#sk-container-id-1 div.sk-estimator {font-family: monospace;background-color: #f0f8ff;border: 1px dotted black;border-radius: 0.25em;box-sizing: border-box;margin-bottom: 0.5em;}#sk-container-id-1 div.sk-estimator:hover {background-color: #d4ebff;}#sk-container-id-1 div.sk-parallel-item::after {content: \"\";width: 100%;border-bottom: 1px solid gray;flex-grow: 1;}#sk-container-id-1 div.sk-label:hover label.sk-toggleable__label {background-color: #d4ebff;}#sk-container-id-1 div.sk-serial::before {content: \"\";position: absolute;border-left: 1px solid gray;box-sizing: border-box;top: 0;bottom: 0;left: 50%;z-index: 0;}#sk-container-id-1 div.sk-serial {display: flex;flex-direction: column;align-items: center;background-color: white;padding-right: 0.2em;padding-left: 0.2em;position: relative;}#sk-container-id-1 div.sk-item {position: relative;z-index: 1;}#sk-container-id-1 div.sk-parallel {display: flex;align-items: stretch;justify-content: center;background-color: white;position: relative;}#sk-container-id-1 div.sk-item::before, #sk-container-id-1 div.sk-parallel-item::before {content: \"\";position: absolute;border-left: 1px solid gray;box-sizing: border-box;top: 0;bottom: 0;left: 50%;z-index: -1;}#sk-container-id-1 div.sk-parallel-item {display: flex;flex-direction: column;z-index: 1;position: relative;background-color: white;}#sk-container-id-1 div.sk-parallel-item:first-child::after {align-self: flex-end;width: 50%;}#sk-container-id-1 div.sk-parallel-item:last-child::after {align-self: flex-start;width: 50%;}#sk-container-id-1 div.sk-parallel-item:only-child::after {width: 0;}#sk-container-id-1 div.sk-dashed-wrapped {border: 1px dashed gray;margin: 0 0.4em 0.5em 0.4em;box-sizing: border-box;padding-bottom: 0.4em;background-color: white;}#sk-container-id-1 div.sk-label label {font-family: monospace;font-weight: bold;display: inline-block;line-height: 1.2em;}#sk-container-id-1 div.sk-label-container {text-align: center;}#sk-container-id-1 div.sk-container {/* jupyter's `normalize.less` sets `[hidden] { display: none; }` but bootstrap.min.css set `[hidden] { display: none !important; }` so we also need the `!important` here to be able to override the default hidden behavior on the sphinx rendered scikit-learn.org. See: https://github.com/scikit-learn/scikit-learn/issues/21755 */display: inline-block !important;position: relative;}#sk-container-id-1 div.sk-text-repr-fallback {display: none;}</style><div id=\"sk-container-id-1\" class=\"sk-top-container\"><div class=\"sk-text-repr-fallback\"><pre>RandomForestClassifier(max_depth=5, n_estimators=112, random_state=42)</pre><b>In a Jupyter environment, please rerun this cell to show the HTML representation or trust the notebook. <br />On GitHub, the HTML representation is unable to render, please try loading this page with nbviewer.org.</b></div><div class=\"sk-container\" hidden><div class=\"sk-item\"><div class=\"sk-estimator sk-toggleable\"><input class=\"sk-toggleable__control sk-hidden--visually\" id=\"sk-estimator-id-1\" type=\"checkbox\" checked><label for=\"sk-estimator-id-1\" class=\"sk-toggleable__label sk-toggleable__label-arrow\">RandomForestClassifier</label><div class=\"sk-toggleable__content\"><pre>RandomForestClassifier(max_depth=5, n_estimators=112, random_state=42)</pre></div></div></div></div></div>"
      ],
      "text/plain": [
       "RandomForestClassifier(max_depth=5, n_estimators=112, random_state=42)"
      ]
     },
     "execution_count": 73,
     "metadata": {},
     "output_type": "execute_result"
    }
   ],
   "source": [
    "RFo[2]"
   ]
  },
  {
   "cell_type": "code",
   "execution_count": 74,
   "id": "iorblakby9lv",
   "metadata": {
    "id": "iorblakby9lv"
   },
   "outputs": [],
   "source": [
    "X_train,X_test,y_train,y_test = train_test_split(input_,y,test_size=0.3, random_state=42)\n",
    "model = RFo[2]\n",
    "explainer = shap.Explainer(model)\n"
   ]
  },
  {
   "cell_type": "code",
   "execution_count": 75,
   "id": "e3a5adc3",
   "metadata": {},
   "outputs": [
    {
     "data": {
      "text/html": [
       "<div>\n",
       "<style scoped>\n",
       "    .dataframe tbody tr th:only-of-type {\n",
       "        vertical-align: middle;\n",
       "    }\n",
       "\n",
       "    .dataframe tbody tr th {\n",
       "        vertical-align: top;\n",
       "    }\n",
       "\n",
       "    .dataframe thead th {\n",
       "        text-align: right;\n",
       "    }\n",
       "</style>\n",
       "<table border=\"1\" class=\"dataframe\">\n",
       "  <thead>\n",
       "    <tr style=\"text-align: right;\">\n",
       "      <th></th>\n",
       "      <th>education_level</th>\n",
       "      <th>missed_meals</th>\n",
       "      <th>withdraw_entire_salary</th>\n",
       "      <th>total_savings</th>\n",
       "      <th>uses_bank</th>\n",
       "      <th>male</th>\n",
       "      <th>bank_savings</th>\n",
       "      <th>cash_savings</th>\n",
       "      <th>loans_given</th>\n",
       "      <th>mpaisa_savings</th>\n",
       "      <th>...</th>\n",
       "      <th>consult_talk_now</th>\n",
       "      <th>consult_wants_overview</th>\n",
       "      <th>consult_aware_rate</th>\n",
       "      <th>consult_wants_scenarios</th>\n",
       "      <th>consult_questions1</th>\n",
       "      <th>consult_repeatinfo</th>\n",
       "      <th>consult_scenarios_asked</th>\n",
       "      <th>consult_questions2</th>\n",
       "      <th>consult_notreached</th>\n",
       "      <th>changed_consult</th>\n",
       "    </tr>\n",
       "  </thead>\n",
       "  <tbody>\n",
       "    <tr>\n",
       "      <th>932</th>\n",
       "      <td>0.000026</td>\n",
       "      <td>-2.704503e-06</td>\n",
       "      <td>-2.419093e-06</td>\n",
       "      <td>-0.000027</td>\n",
       "      <td>-9.382768e-07</td>\n",
       "      <td>-0.000017</td>\n",
       "      <td>-0.000012</td>\n",
       "      <td>-0.000077</td>\n",
       "      <td>8.648050e-07</td>\n",
       "      <td>-0.000055</td>\n",
       "      <td>...</td>\n",
       "      <td>-0.000033</td>\n",
       "      <td>0.000030</td>\n",
       "      <td>-0.000012</td>\n",
       "      <td>-0.000098</td>\n",
       "      <td>0.000013</td>\n",
       "      <td>-0.000018</td>\n",
       "      <td>0.0</td>\n",
       "      <td>2.698990e-06</td>\n",
       "      <td>0.0</td>\n",
       "      <td>2.424449e-06</td>\n",
       "    </tr>\n",
       "    <tr>\n",
       "      <th>873</th>\n",
       "      <td>0.000034</td>\n",
       "      <td>-5.358986e-06</td>\n",
       "      <td>-6.075405e-05</td>\n",
       "      <td>-0.000006</td>\n",
       "      <td>1.369289e-05</td>\n",
       "      <td>-0.000018</td>\n",
       "      <td>-0.000010</td>\n",
       "      <td>-0.000024</td>\n",
       "      <td>7.554028e-06</td>\n",
       "      <td>0.000028</td>\n",
       "      <td>...</td>\n",
       "      <td>-0.000021</td>\n",
       "      <td>0.000027</td>\n",
       "      <td>0.000043</td>\n",
       "      <td>-0.000082</td>\n",
       "      <td>0.000010</td>\n",
       "      <td>-0.000022</td>\n",
       "      <td>0.0</td>\n",
       "      <td>6.123315e-07</td>\n",
       "      <td>0.0</td>\n",
       "      <td>-2.970823e-06</td>\n",
       "    </tr>\n",
       "    <tr>\n",
       "      <th>882</th>\n",
       "      <td>0.000070</td>\n",
       "      <td>9.587922e-08</td>\n",
       "      <td>-2.210081e-06</td>\n",
       "      <td>-0.000079</td>\n",
       "      <td>2.131468e-06</td>\n",
       "      <td>-0.000043</td>\n",
       "      <td>0.000055</td>\n",
       "      <td>0.000106</td>\n",
       "      <td>-5.508535e-05</td>\n",
       "      <td>-0.000008</td>\n",
       "      <td>...</td>\n",
       "      <td>0.000016</td>\n",
       "      <td>0.000011</td>\n",
       "      <td>0.000077</td>\n",
       "      <td>-0.000005</td>\n",
       "      <td>0.000022</td>\n",
       "      <td>-0.000104</td>\n",
       "      <td>0.0</td>\n",
       "      <td>9.659307e-06</td>\n",
       "      <td>0.0</td>\n",
       "      <td>1.333359e-05</td>\n",
       "    </tr>\n",
       "    <tr>\n",
       "      <th>421</th>\n",
       "      <td>-0.000021</td>\n",
       "      <td>-4.198200e-05</td>\n",
       "      <td>9.328066e-07</td>\n",
       "      <td>-0.000025</td>\n",
       "      <td>-1.516257e-05</td>\n",
       "      <td>-0.000021</td>\n",
       "      <td>0.000021</td>\n",
       "      <td>-0.000001</td>\n",
       "      <td>8.753019e-06</td>\n",
       "      <td>-0.000013</td>\n",
       "      <td>...</td>\n",
       "      <td>0.000049</td>\n",
       "      <td>-0.000172</td>\n",
       "      <td>-0.000053</td>\n",
       "      <td>-0.000160</td>\n",
       "      <td>-0.000059</td>\n",
       "      <td>-0.000026</td>\n",
       "      <td>0.0</td>\n",
       "      <td>4.473542e-07</td>\n",
       "      <td>0.0</td>\n",
       "      <td>-1.263914e-05</td>\n",
       "    </tr>\n",
       "    <tr>\n",
       "      <th>101</th>\n",
       "      <td>-0.000062</td>\n",
       "      <td>-1.139125e-04</td>\n",
       "      <td>3.673336e-06</td>\n",
       "      <td>0.000067</td>\n",
       "      <td>1.736114e-05</td>\n",
       "      <td>-0.000016</td>\n",
       "      <td>0.000016</td>\n",
       "      <td>0.000022</td>\n",
       "      <td>1.167820e-05</td>\n",
       "      <td>-0.000003</td>\n",
       "      <td>...</td>\n",
       "      <td>0.000011</td>\n",
       "      <td>-0.000006</td>\n",
       "      <td>0.000046</td>\n",
       "      <td>-0.000126</td>\n",
       "      <td>0.000011</td>\n",
       "      <td>-0.000021</td>\n",
       "      <td>0.0</td>\n",
       "      <td>6.507758e-07</td>\n",
       "      <td>0.0</td>\n",
       "      <td>2.427084e-06</td>\n",
       "    </tr>\n",
       "    <tr>\n",
       "      <th>...</th>\n",
       "      <td>...</td>\n",
       "      <td>...</td>\n",
       "      <td>...</td>\n",
       "      <td>...</td>\n",
       "      <td>...</td>\n",
       "      <td>...</td>\n",
       "      <td>...</td>\n",
       "      <td>...</td>\n",
       "      <td>...</td>\n",
       "      <td>...</td>\n",
       "      <td>...</td>\n",
       "      <td>...</td>\n",
       "      <td>...</td>\n",
       "      <td>...</td>\n",
       "      <td>...</td>\n",
       "      <td>...</td>\n",
       "      <td>...</td>\n",
       "      <td>...</td>\n",
       "      <td>...</td>\n",
       "      <td>...</td>\n",
       "      <td>...</td>\n",
       "    </tr>\n",
       "    <tr>\n",
       "      <th>403</th>\n",
       "      <td>-0.000318</td>\n",
       "      <td>-1.194045e-05</td>\n",
       "      <td>1.551792e-06</td>\n",
       "      <td>0.000041</td>\n",
       "      <td>3.030258e-05</td>\n",
       "      <td>-0.000006</td>\n",
       "      <td>0.000049</td>\n",
       "      <td>-0.000027</td>\n",
       "      <td>-3.116725e-05</td>\n",
       "      <td>-0.000010</td>\n",
       "      <td>...</td>\n",
       "      <td>-0.000128</td>\n",
       "      <td>-0.000089</td>\n",
       "      <td>-0.000275</td>\n",
       "      <td>-0.000014</td>\n",
       "      <td>-0.000101</td>\n",
       "      <td>-0.000078</td>\n",
       "      <td>0.0</td>\n",
       "      <td>1.446497e-05</td>\n",
       "      <td>0.0</td>\n",
       "      <td>1.104927e-06</td>\n",
       "    </tr>\n",
       "    <tr>\n",
       "      <th>449</th>\n",
       "      <td>0.000129</td>\n",
       "      <td>1.783475e-04</td>\n",
       "      <td>-5.190151e-05</td>\n",
       "      <td>-0.000321</td>\n",
       "      <td>2.623559e-05</td>\n",
       "      <td>-0.000091</td>\n",
       "      <td>0.000064</td>\n",
       "      <td>-0.000097</td>\n",
       "      <td>-5.576214e-05</td>\n",
       "      <td>-0.000191</td>\n",
       "      <td>...</td>\n",
       "      <td>-0.000014</td>\n",
       "      <td>-0.000018</td>\n",
       "      <td>-0.000123</td>\n",
       "      <td>0.000112</td>\n",
       "      <td>0.000049</td>\n",
       "      <td>-0.000090</td>\n",
       "      <td>0.0</td>\n",
       "      <td>1.414626e-05</td>\n",
       "      <td>0.0</td>\n",
       "      <td>2.195687e-06</td>\n",
       "    </tr>\n",
       "    <tr>\n",
       "      <th>201</th>\n",
       "      <td>-0.000242</td>\n",
       "      <td>-3.346746e-05</td>\n",
       "      <td>3.366526e-05</td>\n",
       "      <td>0.000471</td>\n",
       "      <td>2.089955e-05</td>\n",
       "      <td>-0.000026</td>\n",
       "      <td>0.000011</td>\n",
       "      <td>0.000090</td>\n",
       "      <td>-7.832659e-06</td>\n",
       "      <td>-0.000121</td>\n",
       "      <td>...</td>\n",
       "      <td>0.000494</td>\n",
       "      <td>-0.000063</td>\n",
       "      <td>-0.000434</td>\n",
       "      <td>-0.000075</td>\n",
       "      <td>0.000055</td>\n",
       "      <td>-0.000040</td>\n",
       "      <td>0.0</td>\n",
       "      <td>5.686257e-06</td>\n",
       "      <td>0.0</td>\n",
       "      <td>2.389992e-05</td>\n",
       "    </tr>\n",
       "    <tr>\n",
       "      <th>763</th>\n",
       "      <td>-0.000001</td>\n",
       "      <td>-1.236199e-04</td>\n",
       "      <td>4.454263e-06</td>\n",
       "      <td>0.000105</td>\n",
       "      <td>-3.516439e-05</td>\n",
       "      <td>0.000117</td>\n",
       "      <td>-0.000004</td>\n",
       "      <td>0.000014</td>\n",
       "      <td>1.129060e-05</td>\n",
       "      <td>0.000008</td>\n",
       "      <td>...</td>\n",
       "      <td>-0.000006</td>\n",
       "      <td>-0.000084</td>\n",
       "      <td>-0.000113</td>\n",
       "      <td>-0.000158</td>\n",
       "      <td>0.000026</td>\n",
       "      <td>-0.000028</td>\n",
       "      <td>0.0</td>\n",
       "      <td>4.253652e-07</td>\n",
       "      <td>0.0</td>\n",
       "      <td>-1.735416e-05</td>\n",
       "    </tr>\n",
       "    <tr>\n",
       "      <th>345</th>\n",
       "      <td>0.000026</td>\n",
       "      <td>-2.417272e-05</td>\n",
       "      <td>6.922252e-05</td>\n",
       "      <td>0.000083</td>\n",
       "      <td>2.976276e-07</td>\n",
       "      <td>0.000419</td>\n",
       "      <td>0.000033</td>\n",
       "      <td>0.000058</td>\n",
       "      <td>8.593598e-06</td>\n",
       "      <td>-0.000058</td>\n",
       "      <td>...</td>\n",
       "      <td>-0.000060</td>\n",
       "      <td>0.000030</td>\n",
       "      <td>0.000179</td>\n",
       "      <td>0.000039</td>\n",
       "      <td>0.000014</td>\n",
       "      <td>-0.000028</td>\n",
       "      <td>0.0</td>\n",
       "      <td>3.817073e-06</td>\n",
       "      <td>0.0</td>\n",
       "      <td>2.667068e-07</td>\n",
       "    </tr>\n",
       "  </tbody>\n",
       "</table>\n",
       "<p>194 rows × 78 columns</p>\n",
       "</div>"
      ],
      "text/plain": [
       "     education_level  missed_meals  withdraw_entire_salary  total_savings  \\\n",
       "932         0.000026 -2.704503e-06           -2.419093e-06      -0.000027   \n",
       "873         0.000034 -5.358986e-06           -6.075405e-05      -0.000006   \n",
       "882         0.000070  9.587922e-08           -2.210081e-06      -0.000079   \n",
       "421        -0.000021 -4.198200e-05            9.328066e-07      -0.000025   \n",
       "101        -0.000062 -1.139125e-04            3.673336e-06       0.000067   \n",
       "..               ...           ...                     ...            ...   \n",
       "403        -0.000318 -1.194045e-05            1.551792e-06       0.000041   \n",
       "449         0.000129  1.783475e-04           -5.190151e-05      -0.000321   \n",
       "201        -0.000242 -3.346746e-05            3.366526e-05       0.000471   \n",
       "763        -0.000001 -1.236199e-04            4.454263e-06       0.000105   \n",
       "345         0.000026 -2.417272e-05            6.922252e-05       0.000083   \n",
       "\n",
       "        uses_bank      male  bank_savings  cash_savings   loans_given  \\\n",
       "932 -9.382768e-07 -0.000017     -0.000012     -0.000077  8.648050e-07   \n",
       "873  1.369289e-05 -0.000018     -0.000010     -0.000024  7.554028e-06   \n",
       "882  2.131468e-06 -0.000043      0.000055      0.000106 -5.508535e-05   \n",
       "421 -1.516257e-05 -0.000021      0.000021     -0.000001  8.753019e-06   \n",
       "101  1.736114e-05 -0.000016      0.000016      0.000022  1.167820e-05   \n",
       "..            ...       ...           ...           ...           ...   \n",
       "403  3.030258e-05 -0.000006      0.000049     -0.000027 -3.116725e-05   \n",
       "449  2.623559e-05 -0.000091      0.000064     -0.000097 -5.576214e-05   \n",
       "201  2.089955e-05 -0.000026      0.000011      0.000090 -7.832659e-06   \n",
       "763 -3.516439e-05  0.000117     -0.000004      0.000014  1.129060e-05   \n",
       "345  2.976276e-07  0.000419      0.000033      0.000058  8.593598e-06   \n",
       "\n",
       "     mpaisa_savings  ...  consult_talk_now  consult_wants_overview  \\\n",
       "932       -0.000055  ...         -0.000033                0.000030   \n",
       "873        0.000028  ...         -0.000021                0.000027   \n",
       "882       -0.000008  ...          0.000016                0.000011   \n",
       "421       -0.000013  ...          0.000049               -0.000172   \n",
       "101       -0.000003  ...          0.000011               -0.000006   \n",
       "..              ...  ...               ...                     ...   \n",
       "403       -0.000010  ...         -0.000128               -0.000089   \n",
       "449       -0.000191  ...         -0.000014               -0.000018   \n",
       "201       -0.000121  ...          0.000494               -0.000063   \n",
       "763        0.000008  ...         -0.000006               -0.000084   \n",
       "345       -0.000058  ...         -0.000060                0.000030   \n",
       "\n",
       "     consult_aware_rate  consult_wants_scenarios  consult_questions1  \\\n",
       "932           -0.000012                -0.000098            0.000013   \n",
       "873            0.000043                -0.000082            0.000010   \n",
       "882            0.000077                -0.000005            0.000022   \n",
       "421           -0.000053                -0.000160           -0.000059   \n",
       "101            0.000046                -0.000126            0.000011   \n",
       "..                  ...                      ...                 ...   \n",
       "403           -0.000275                -0.000014           -0.000101   \n",
       "449           -0.000123                 0.000112            0.000049   \n",
       "201           -0.000434                -0.000075            0.000055   \n",
       "763           -0.000113                -0.000158            0.000026   \n",
       "345            0.000179                 0.000039            0.000014   \n",
       "\n",
       "     consult_repeatinfo  consult_scenarios_asked  consult_questions2  \\\n",
       "932           -0.000018                      0.0        2.698990e-06   \n",
       "873           -0.000022                      0.0        6.123315e-07   \n",
       "882           -0.000104                      0.0        9.659307e-06   \n",
       "421           -0.000026                      0.0        4.473542e-07   \n",
       "101           -0.000021                      0.0        6.507758e-07   \n",
       "..                  ...                      ...                 ...   \n",
       "403           -0.000078                      0.0        1.446497e-05   \n",
       "449           -0.000090                      0.0        1.414626e-05   \n",
       "201           -0.000040                      0.0        5.686257e-06   \n",
       "763           -0.000028                      0.0        4.253652e-07   \n",
       "345           -0.000028                      0.0        3.817073e-06   \n",
       "\n",
       "     consult_notreached  changed_consult  \n",
       "932                 0.0     2.424449e-06  \n",
       "873                 0.0    -2.970823e-06  \n",
       "882                 0.0     1.333359e-05  \n",
       "421                 0.0    -1.263914e-05  \n",
       "101                 0.0     2.427084e-06  \n",
       "..                  ...              ...  \n",
       "403                 0.0     1.104927e-06  \n",
       "449                 0.0     2.195687e-06  \n",
       "201                 0.0     2.389992e-05  \n",
       "763                 0.0    -1.735416e-05  \n",
       "345                 0.0     2.667068e-07  \n",
       "\n",
       "[194 rows x 78 columns]"
      ]
     },
     "execution_count": 75,
     "metadata": {},
     "output_type": "execute_result"
    }
   ],
   "source": [
    "shap_test = explainer(X_test)\n",
    "shap_df = pd.DataFrame(shap_test.values[:,:,1], \n",
    "            columns=shap_test.feature_names, \n",
    "            index=X_test.index)\n",
    "shap_df"
   ]
  },
  {
   "cell_type": "code",
   "execution_count": 76,
   "id": "d039babd",
   "metadata": {},
   "outputs": [
    {
     "data": {
      "image/png": "[encoded data removed]",
      "text/plain": [
       "<Figure size 576x468 with 1 Axes>"
      ]
     },
     "metadata": {},
     "output_type": "display_data"
    }
   ],
   "source": [
    "shap.plots.bar(shap_test[:,:,1])"
   ]
  },
  {
   "cell_type": "code",
   "execution_count": 77,
   "id": "4361caf1",
   "metadata": {},
   "outputs": [
    {
     "data": {
      "image/png": "[encoded data removed]",
      "text/plain": [
       "<Figure size 576x684 with 2 Axes>"
      ]
     },
     "metadata": {
      "needs_background": "light"
     },
     "output_type": "display_data"
    }
   ],
   "source": [
    "fig=plt.gcf()\n",
    "shap.summary_plot(shap_test[:,:,1],show=False)\n",
    "plt.savefig('shap_distribution_2.png')"
   ]
  },
  {
   "cell_type": "code",
   "execution_count": 78,
   "id": "db60f1e6",
   "metadata": {},
   "outputs": [
    {
     "data": {
      "image/png": "[encoded data removed]",
      "text/plain": [
       "<Figure size 576x468 with 3 Axes>"
      ]
     },
     "metadata": {},
     "output_type": "display_data"
    }
   ],
   "source": [
    "shap.plots.waterfall(shap_test[:,:,1][1])"
   ]
  },
  {
   "cell_type": "markdown",
   "id": "MS4RrOfGWNAO",
   "metadata": {
    "id": "MS4RrOfGWNAO"
   },
   "source": [
    "#### predicting the desire to change savings"
   ]
  },
  {
   "cell_type": "code",
   "execution_count": 85,
   "id": "Ni0wd_a2Wgmj",
   "metadata": {
    "colab": {
     "base_uri": "https://localhost:8080/"
    },
    "id": "Ni0wd_a2Wgmj",
    "outputId": "e9890652-6aa3-40c5-ad05-55f1369f1eef"
   },
   "outputs": [
    {
     "name": "stdout",
     "output_type": "stream",
     "text": [
      "(781, 200) (781,)\n"
     ]
    }
   ],
   "source": [
    "dataset =[begin_info,experiment,consult,end_info]\n",
    "input_ = pd.concat([dataset[0],dataset[1]],axis=1)\n",
    "for i in range(2,len(dataset)):\n",
    "    input_ = pd.concat([input_,dataset[i]],axis=1)\n",
    "input_ = input_.replace(-1,0)\n",
    "input_['filter_desire'] = df1['e1_changed_desire']\n",
    "input_ = input_.loc[pd.notna(input_['filter_desire'])]\n",
    "input_ = input_.drop('e1_increased_desiretosave',axis=1)\n",
    "\n",
    "y = input_.iloc[:,-1]\n",
    "input_ = input_.iloc[:,:-2]\n",
    "print(input_.shape,y.shape)"
   ]
  },
  {
   "cell_type": "code",
   "execution_count": 86,
   "id": "u9Y-APhwci_m",
   "metadata": {
    "id": "u9Y-APhwci_m"
   },
   "outputs": [],
   "source": [
    "input_std = preprocessing.StandardScaler().fit_transform(input_)"
   ]
  },
  {
   "cell_type": "code",
   "execution_count": 87,
   "id": "8UjhWRg_cqD4",
   "metadata": {
    "colab": {
     "base_uri": "https://localhost:8080/",
     "height": 282
    },
    "id": "8UjhWRg_cqD4",
    "outputId": "93e636a2-c7ae-457c-9e56-dacae2ba0d22"
   },
   "outputs": [
    {
     "data": {
      "image/png": "[encoded data removed]",
      "text/plain": [
       "<Figure size 864x288 with 2 Axes>"
      ]
     },
     "metadata": {
      "needs_background": "light"
     },
     "output_type": "display_data"
    }
   ],
   "source": [
    "plot_all(input_std,500)"
   ]
  },
  {
   "cell_type": "code",
   "execution_count": 88,
   "id": "Fn_wWPheyTIv",
   "metadata": {
    "id": "Fn_wWPheyTIv"
   },
   "outputs": [],
   "source": [
    "X = PCA(n_components=125).fit_transform(input_std)"
   ]
  },
  {
   "cell_type": "markdown",
   "id": "Oa4BRiooeNP2",
   "metadata": {
    "id": "Oa4BRiooeNP2"
   },
   "source": [
    "##### Models"
   ]
  },
  {
   "cell_type": "markdown",
   "id": "k6RNGwWx3i7y",
   "metadata": {
    "id": "k6RNGwWx3i7y"
   },
   "source": [
    "###### Logistic Regression\n"
   ]
  },
  {
   "cell_type": "code",
   "execution_count": 89,
   "id": "65Fn4gf93iZm",
   "metadata": {
    "colab": {
     "base_uri": "https://localhost:8080/"
    },
    "id": "65Fn4gf93iZm",
    "outputId": "f799199a-87ee-4c33-a6c9-f299546c1899"
   },
   "outputs": [
    {
     "data": {
      "text/plain": [
       "(0.5787234042553191, LogisticRegression(random_state=42))"
      ]
     },
     "execution_count": 89,
     "metadata": {},
     "output_type": "execute_result"
    }
   ],
   "source": [
    "LR(input_std,y) # with the original dataset"
   ]
  },
  {
   "cell_type": "code",
   "execution_count": 90,
   "id": "wM-fJL2Cyj4G",
   "metadata": {
    "colab": {
     "base_uri": "https://localhost:8080/"
    },
    "id": "wM-fJL2Cyj4G",
    "outputId": "e5b2ecfd-9651-4d53-8245-0fd3576043e9"
   },
   "outputs": [
    {
     "data": {
      "text/plain": [
       "(0.5914893617021276, LogisticRegression(random_state=42))"
      ]
     },
     "execution_count": 90,
     "metadata": {},
     "output_type": "execute_result"
    }
   ],
   "source": [
    "LR(X,y) # with dataset after transformation"
   ]
  },
  {
   "cell_type": "markdown",
   "id": "7YYFfw4ReQlG",
   "metadata": {
    "id": "7YYFfw4ReQlG"
   },
   "source": [
    "###### Decision Tree"
   ]
  },
  {
   "cell_type": "code",
   "execution_count": 91,
   "id": "KXb7BBzueUbq",
   "metadata": {
    "colab": {
     "base_uri": "https://localhost:8080/"
    },
    "id": "KXb7BBzueUbq",
    "outputId": "52f8bf30-f3da-472d-e808-2c75727e64bc"
   },
   "outputs": [],
   "source": [
    "DTo = DT(input_,y)"
   ]
  },
  {
   "cell_type": "code",
   "execution_count": 92,
   "id": "cf9769d4",
   "metadata": {},
   "outputs": [
    {
     "data": {
      "text/plain": [
       "({'criterion': 'gini', 'max_depth': 5, 'splitter': 'random'},\n",
       " 0.6510638297872341,\n",
       " DecisionTreeClassifier(max_depth=5, random_state=42, splitter='random'))"
      ]
     },
     "execution_count": 92,
     "metadata": {},
     "output_type": "execute_result"
    }
   ],
   "source": [
    "DTo"
   ]
  },
  {
   "cell_type": "code",
   "execution_count": 93,
   "id": "2DnFSLnQyorg",
   "metadata": {
    "colab": {
     "base_uri": "https://localhost:8080/"
    },
    "id": "2DnFSLnQyorg",
    "outputId": "712b7adb-f936-4cc5-8941-276f3c788bbb"
   },
   "outputs": [],
   "source": [
    "DTt = DT(X,y)"
   ]
  },
  {
   "cell_type": "code",
   "execution_count": 94,
   "id": "75bb1ecd",
   "metadata": {},
   "outputs": [
    {
     "data": {
      "text/plain": [
       "({'criterion': 'entropy', 'max_depth': 5, 'splitter': 'random'},\n",
       " 0.5361702127659574,\n",
       " DecisionTreeClassifier(criterion='entropy', max_depth=5, random_state=42,\n",
       "                        splitter='random'))"
      ]
     },
     "execution_count": 94,
     "metadata": {},
     "output_type": "execute_result"
    }
   ],
   "source": [
    "DTt"
   ]
  },
  {
   "cell_type": "markdown",
   "id": "-5oQVnq5gvmx",
   "metadata": {
    "id": "-5oQVnq5gvmx"
   },
   "source": [
    "###### Random Forest"
   ]
  },
  {
   "cell_type": "code",
   "execution_count": 95,
   "id": "cz4X_R9wguTD",
   "metadata": {
    "id": "cz4X_R9wguTD"
   },
   "outputs": [],
   "source": [
    "RFo= RF(input_,y)"
   ]
  },
  {
   "cell_type": "code",
   "execution_count": 96,
   "id": "fc1cc04c",
   "metadata": {},
   "outputs": [
    {
     "data": {
      "text/plain": [
       "({'criterion': 'gini', 'max_depth': 8, 'n_estimators': 94},\n",
       " 0.7021276595744681,\n",
       " RandomForestClassifier(max_depth=8, n_estimators=94, random_state=42))"
      ]
     },
     "execution_count": 96,
     "metadata": {},
     "output_type": "execute_result"
    }
   ],
   "source": [
    "RFo"
   ]
  },
  {
   "cell_type": "code",
   "execution_count": 97,
   "id": "2e0640e2",
   "metadata": {},
   "outputs": [],
   "source": [
    "RFt= RF(X,y)"
   ]
  },
  {
   "cell_type": "code",
   "execution_count": 98,
   "id": "9f1ba16f",
   "metadata": {},
   "outputs": [
    {
     "data": {
      "text/plain": [
       "({'criterion': 'entropy', 'max_depth': 12, 'n_estimators': 93},\n",
       " 0.6127659574468085,\n",
       " RandomForestClassifier(criterion='entropy', max_depth=12, n_estimators=93,\n",
       "                        random_state=42))"
      ]
     },
     "execution_count": 98,
     "metadata": {},
     "output_type": "execute_result"
    }
   ],
   "source": [
    "RFt"
   ]
  },
  {
   "cell_type": "markdown",
   "id": "8cdceed0",
   "metadata": {
    "id": "8cdceed0"
   },
   "source": [
    "###### Neural Networks"
   ]
  },
  {
   "cell_type": "code",
   "execution_count": 99,
   "id": "79c8441a",
   "metadata": {
    "id": "79c8441a"
   },
   "outputs": [],
   "source": [
    "from tensorflow.keras.models import Sequential\n",
    "from tensorflow.keras.layers import Dense\n",
    "def create_model(activation='tanh'):\n",
    "    tf.keras.backend.clear_session()\n",
    "    tf.random.set_seed(7)\n",
    "    model = Sequential()\n",
    "    model.add(Dense(25, input_shape=(200,), activation=activation))\n",
    "    model.add(Dense(1, kernel_initializer='uniform', activation='sigmoid'))\n",
    "    model.compile(loss = 'binary_crossentropy', metrics=['accuracy'],optimizer='Adam')\n",
    "    return model\n",
    "activation = ['softmax', 'softplus', 'softsign', 'relu', 'tanh', 'sigmoid', 'hard_sigmoid', 'linear']\n",
    "neurons = [3,5,7, 10,12, 15,17,20,23,25,27,30]\n",
    "optimizer = ['SGD', 'RMSprop', 'Adagrad', 'Adadelta', 'Adam', 'Adamax', 'Nadam']\n",
    "model = KerasClassifier(model=create_model,\n",
    "                       loss=\"binary_crossentropy\",metrics='accuracy',epochs=5, batch_size=50, verbose=0)\n",
    "#param_grid = dict(model__neurons=neurons)\n",
    "param_grid = dict(model__activation=activation)\n",
    "#param_grid = dict(model__optimizer=optimizer)\n",
    "grid = GridSearchCV(estimator=model, param_grid=param_grid,scoring='accuracy', n_jobs=5, cv=3)"
   ]
  },
  {
   "cell_type": "code",
   "execution_count": 100,
   "id": "cffadb59",
   "metadata": {
    "id": "cffadb59"
   },
   "outputs": [
    {
     "name": "stdout",
     "output_type": "stream",
     "text": [
      "{'model__activation': 'relu'} 0.6758241758241758\n"
     ]
    }
   ],
   "source": [
    "X_train,X_test,y_train,y_test = train_test_split(input_std,y,test_size=0.3, random_state=42)# tuning neruons  with original dataset\n",
    "grid_result = grid.fit(X_train,y_train) \n",
    "print(grid_result.best_params_,grid_result.best_score_)"
   ]
  },
  {
   "cell_type": "code",
   "execution_count": 101,
   "id": "c8a89dbe",
   "metadata": {
    "id": "c8a89dbe",
    "outputId": "02662ea6-2cf5-44ec-b8a2-81558df7d5a1"
   },
   "outputs": [
    {
     "name": "stdout",
     "output_type": "stream",
     "text": [
      "{'model__activation': 'relu'} 0.6758241758241758\n"
     ]
    }
   ],
   "source": [
    "grid_result = grid.fit(X_train,y_train) # tuning activation \n",
    "print(grid_result.best_params_, grid_result.best_score_)"
   ]
  },
  {
   "cell_type": "code",
   "execution_count": 102,
   "id": "e3b91790",
   "metadata": {
    "id": "e3b91790",
    "outputId": "20da10fa-c2f0-4957-ebee-cba0e83999e1"
   },
   "outputs": [
    {
     "name": "stdout",
     "output_type": "stream",
     "text": [
      "{'model__activation': 'relu'} 0.6758241758241758\n"
     ]
    }
   ],
   "source": [
    "grid_result = grid.fit(X_train,y_train) # tuning opimizer \n",
    "print(grid_result.best_params_, grid_result.best_score_)"
   ]
  },
  {
   "cell_type": "code",
   "execution_count": 103,
   "id": "246ead2f",
   "metadata": {},
   "outputs": [],
   "source": [
    "def create_binary_model(input_):   \n",
    "    tf.keras.backend.clear_session()\n",
    "    tf.random.set_seed(7)\n",
    "    inputs = keras.Input(shape=(input_.shape[1],))\n",
    "    x = tf.keras.layers.Dense(25, activation=tf.nn.relu)(inputs)\n",
    "    outputs = tf.keras.layers.Dense(1, activation=tf.nn.sigmoid)(x)\n",
    "    model = tf.keras.Model(inputs=inputs, outputs=outputs)\n",
    "    model.compile(loss = 'binary_crossentropy', metrics=['accuracy'],optimizer='Adam')\n",
    "    return model"
   ]
  },
  {
   "cell_type": "code",
   "execution_count": 104,
   "id": "fca23295",
   "metadata": {},
   "outputs": [],
   "source": [
    "def NN_bi(X,y):    \n",
    "    X_train,X_test,y_train,y_test = train_test_split(X,y,test_size=0.3, random_state=42)\n",
    "    model = create_binary_model(X_train)\n",
    "    model.fit(X_train,y_train,validation_split=0.1,batch_size= 50,epochs=5)\n",
    "    accuracy = model.evaluate(X_test,y_test)[1]\n",
    "    return accuracy,model"
   ]
  },
  {
   "cell_type": "code",
   "execution_count": 105,
   "id": "9566b375",
   "metadata": {
    "colab": {
     "base_uri": "https://localhost:8080/"
    },
    "id": "9566b375",
    "outputId": "4c5e9b94-db9e-4ef8-b515-5dae1f4b4286"
   },
   "outputs": [
    {
     "name": "stdout",
     "output_type": "stream",
     "text": [
      "Epoch 1/5\n",
      "10/10 [==============================] - 0s 17ms/step - loss: 0.8504 - accuracy: 0.5275 - val_loss: 0.8524 - val_accuracy: 0.5636\n",
      "Epoch 2/5\n",
      "10/10 [==============================] - 0s 4ms/step - loss: 0.7132 - accuracy: 0.5886 - val_loss: 0.7906 - val_accuracy: 0.6000\n",
      "Epoch 3/5\n",
      "10/10 [==============================] - 0s 5ms/step - loss: 0.6301 - accuracy: 0.6599 - val_loss: 0.7484 - val_accuracy: 0.5818\n",
      "Epoch 4/5\n",
      "10/10 [==============================] - 0s 4ms/step - loss: 0.5682 - accuracy: 0.7108 - val_loss: 0.7101 - val_accuracy: 0.5818\n",
      "Epoch 5/5\n",
      "10/10 [==============================] - 0s 4ms/step - loss: 0.5244 - accuracy: 0.7373 - val_loss: 0.6779 - val_accuracy: 0.5818\n",
      "8/8 [==============================] - 0s 1ms/step - loss: 0.6986 - accuracy: 0.6936\n"
     ]
    }
   ],
   "source": [
    "NNo = NN_bi(input_std,y)"
   ]
  },
  {
   "cell_type": "code",
   "execution_count": 106,
   "id": "7b4d79f8",
   "metadata": {},
   "outputs": [
    {
     "data": {
      "text/plain": [
       "(0.693617045879364, <keras.engine.functional.Functional at 0x276437b3700>)"
      ]
     },
     "execution_count": 106,
     "metadata": {},
     "output_type": "execute_result"
    }
   ],
   "source": [
    "NNo"
   ]
  },
  {
   "cell_type": "code",
   "execution_count": 107,
   "id": "b153fe76",
   "metadata": {},
   "outputs": [
    {
     "name": "stdout",
     "output_type": "stream",
     "text": [
      "Epoch 1/5\n",
      "10/10 [==============================] - 0s 14ms/step - loss: 0.8874 - accuracy: 0.4888 - val_loss: 0.9961 - val_accuracy: 0.5091\n",
      "Epoch 2/5\n",
      "10/10 [==============================] - 0s 5ms/step - loss: 0.7762 - accuracy: 0.5316 - val_loss: 0.9162 - val_accuracy: 0.5273\n",
      "Epoch 3/5\n",
      "10/10 [==============================] - 0s 4ms/step - loss: 0.6940 - accuracy: 0.5825 - val_loss: 0.8509 - val_accuracy: 0.5455\n",
      "Epoch 4/5\n",
      "10/10 [==============================] - 0s 3ms/step - loss: 0.6258 - accuracy: 0.6660 - val_loss: 0.8016 - val_accuracy: 0.5636\n",
      "Epoch 5/5\n",
      "10/10 [==============================] - 0s 5ms/step - loss: 0.5748 - accuracy: 0.7026 - val_loss: 0.7621 - val_accuracy: 0.6000\n",
      "8/8 [==============================] - 0s 1ms/step - loss: 0.6944 - accuracy: 0.6043\n"
     ]
    }
   ],
   "source": [
    "NNt = NN_bi(X,y)"
   ]
  },
  {
   "cell_type": "code",
   "execution_count": 108,
   "id": "a44e3493",
   "metadata": {},
   "outputs": [
    {
     "data": {
      "text/plain": [
       "(0.6042553186416626, <keras.engine.functional.Functional at 0x27646063fa0>)"
      ]
     },
     "execution_count": 108,
     "metadata": {},
     "output_type": "execute_result"
    }
   ],
   "source": [
    "NNt"
   ]
  },
  {
   "cell_type": "markdown",
   "id": "7fbb36a1",
   "metadata": {},
   "source": [
    "##### Explanation "
   ]
  },
  {
   "cell_type": "code",
   "execution_count": 109,
   "id": "1c17a72f",
   "metadata": {},
   "outputs": [],
   "source": [
    "X_train,X_test,y_train,y_test = train_test_split(input_,y,test_size=0.3, random_state=42)\n",
    "model = RFo[2]\n",
    "explainer = shap.Explainer(model)"
   ]
  },
  {
   "cell_type": "code",
   "execution_count": 110,
   "id": "34ae6d43",
   "metadata": {},
   "outputs": [
    {
     "data": {
      "text/html": [
       "<div>\n",
       "<style scoped>\n",
       "    .dataframe tbody tr th:only-of-type {\n",
       "        vertical-align: middle;\n",
       "    }\n",
       "\n",
       "    .dataframe tbody tr th {\n",
       "        vertical-align: top;\n",
       "    }\n",
       "\n",
       "    .dataframe thead th {\n",
       "        text-align: right;\n",
       "    }\n",
       "</style>\n",
       "<table border=\"1\" class=\"dataframe\">\n",
       "  <thead>\n",
       "    <tr style=\"text-align: right;\">\n",
       "      <th></th>\n",
       "      <th>education_level</th>\n",
       "      <th>missed_meals</th>\n",
       "      <th>withdraw_entire_salary</th>\n",
       "      <th>total_savings</th>\n",
       "      <th>uses_bank</th>\n",
       "      <th>male</th>\n",
       "      <th>bank_savings</th>\n",
       "      <th>cash_savings</th>\n",
       "      <th>loans_given</th>\n",
       "      <th>mpaisa_savings</th>\n",
       "      <th>...</th>\n",
       "      <th>e1_cash_amount</th>\n",
       "      <th>e1_violence_prime</th>\n",
       "      <th>money_mpaz_plan</th>\n",
       "      <th>financialproduct_mpaz</th>\n",
       "      <th>money_mpaz_spent</th>\n",
       "      <th>e1_switch_a</th>\n",
       "      <th>e1_switch_left_a</th>\n",
       "      <th>e1_switch_b</th>\n",
       "      <th>e1_switch_left_b</th>\n",
       "      <th>beta_el</th>\n",
       "    </tr>\n",
       "  </thead>\n",
       "  <tbody>\n",
       "    <tr>\n",
       "      <th>730</th>\n",
       "      <td>-0.000872</td>\n",
       "      <td>0.000559</td>\n",
       "      <td>-0.000261</td>\n",
       "      <td>-0.003563</td>\n",
       "      <td>-0.000762</td>\n",
       "      <td>-0.000081</td>\n",
       "      <td>0.000868</td>\n",
       "      <td>0.000297</td>\n",
       "      <td>0.000552</td>\n",
       "      <td>-0.000376</td>\n",
       "      <td>...</td>\n",
       "      <td>0.000120</td>\n",
       "      <td>0.000051</td>\n",
       "      <td>0.044042</td>\n",
       "      <td>-0.010733</td>\n",
       "      <td>0.000398</td>\n",
       "      <td>0.002730</td>\n",
       "      <td>0.001044</td>\n",
       "      <td>-0.000128</td>\n",
       "      <td>0.000318</td>\n",
       "      <td>0.000769</td>\n",
       "    </tr>\n",
       "    <tr>\n",
       "      <th>720</th>\n",
       "      <td>-0.001490</td>\n",
       "      <td>0.000625</td>\n",
       "      <td>0.000483</td>\n",
       "      <td>0.000360</td>\n",
       "      <td>-0.000411</td>\n",
       "      <td>-0.000264</td>\n",
       "      <td>-0.008492</td>\n",
       "      <td>-0.000748</td>\n",
       "      <td>0.002999</td>\n",
       "      <td>-0.004345</td>\n",
       "      <td>...</td>\n",
       "      <td>0.000839</td>\n",
       "      <td>0.000043</td>\n",
       "      <td>-0.021484</td>\n",
       "      <td>0.002467</td>\n",
       "      <td>-0.000934</td>\n",
       "      <td>-0.005421</td>\n",
       "      <td>-0.000111</td>\n",
       "      <td>-0.000364</td>\n",
       "      <td>0.000044</td>\n",
       "      <td>0.002028</td>\n",
       "    </tr>\n",
       "    <tr>\n",
       "      <th>667</th>\n",
       "      <td>-0.001111</td>\n",
       "      <td>0.001245</td>\n",
       "      <td>0.001258</td>\n",
       "      <td>0.000707</td>\n",
       "      <td>0.000405</td>\n",
       "      <td>-0.000095</td>\n",
       "      <td>0.000674</td>\n",
       "      <td>0.000002</td>\n",
       "      <td>0.000206</td>\n",
       "      <td>0.004585</td>\n",
       "      <td>...</td>\n",
       "      <td>-0.000161</td>\n",
       "      <td>-0.000099</td>\n",
       "      <td>0.019904</td>\n",
       "      <td>0.001356</td>\n",
       "      <td>-0.002054</td>\n",
       "      <td>-0.006970</td>\n",
       "      <td>-0.001820</td>\n",
       "      <td>-0.000867</td>\n",
       "      <td>-0.000602</td>\n",
       "      <td>0.002783</td>\n",
       "    </tr>\n",
       "    <tr>\n",
       "      <th>788</th>\n",
       "      <td>0.000156</td>\n",
       "      <td>0.000094</td>\n",
       "      <td>-0.000168</td>\n",
       "      <td>-0.001219</td>\n",
       "      <td>0.000168</td>\n",
       "      <td>-0.000353</td>\n",
       "      <td>0.000258</td>\n",
       "      <td>-0.007595</td>\n",
       "      <td>0.003331</td>\n",
       "      <td>-0.003783</td>\n",
       "      <td>...</td>\n",
       "      <td>0.000327</td>\n",
       "      <td>0.000096</td>\n",
       "      <td>-0.021759</td>\n",
       "      <td>0.001364</td>\n",
       "      <td>-0.001465</td>\n",
       "      <td>-0.004820</td>\n",
       "      <td>-0.004631</td>\n",
       "      <td>-0.000483</td>\n",
       "      <td>0.001935</td>\n",
       "      <td>0.000262</td>\n",
       "    </tr>\n",
       "    <tr>\n",
       "      <th>599</th>\n",
       "      <td>-0.001503</td>\n",
       "      <td>-0.001587</td>\n",
       "      <td>0.001142</td>\n",
       "      <td>-0.007595</td>\n",
       "      <td>0.001474</td>\n",
       "      <td>-0.000110</td>\n",
       "      <td>0.000605</td>\n",
       "      <td>0.000090</td>\n",
       "      <td>0.000212</td>\n",
       "      <td>0.000247</td>\n",
       "      <td>...</td>\n",
       "      <td>0.000382</td>\n",
       "      <td>-0.000216</td>\n",
       "      <td>0.033155</td>\n",
       "      <td>-0.003472</td>\n",
       "      <td>-0.014538</td>\n",
       "      <td>-0.005788</td>\n",
       "      <td>-0.001402</td>\n",
       "      <td>-0.001173</td>\n",
       "      <td>-0.000859</td>\n",
       "      <td>-0.001334</td>\n",
       "    </tr>\n",
       "    <tr>\n",
       "      <th>...</th>\n",
       "      <td>...</td>\n",
       "      <td>...</td>\n",
       "      <td>...</td>\n",
       "      <td>...</td>\n",
       "      <td>...</td>\n",
       "      <td>...</td>\n",
       "      <td>...</td>\n",
       "      <td>...</td>\n",
       "      <td>...</td>\n",
       "      <td>...</td>\n",
       "      <td>...</td>\n",
       "      <td>...</td>\n",
       "      <td>...</td>\n",
       "      <td>...</td>\n",
       "      <td>...</td>\n",
       "      <td>...</td>\n",
       "      <td>...</td>\n",
       "      <td>...</td>\n",
       "      <td>...</td>\n",
       "      <td>...</td>\n",
       "      <td>...</td>\n",
       "    </tr>\n",
       "    <tr>\n",
       "      <th>277</th>\n",
       "      <td>0.003025</td>\n",
       "      <td>-0.000278</td>\n",
       "      <td>0.000437</td>\n",
       "      <td>-0.004969</td>\n",
       "      <td>0.000331</td>\n",
       "      <td>-0.000498</td>\n",
       "      <td>0.001160</td>\n",
       "      <td>-0.000595</td>\n",
       "      <td>-0.000792</td>\n",
       "      <td>0.002139</td>\n",
       "      <td>...</td>\n",
       "      <td>-0.001131</td>\n",
       "      <td>-0.000285</td>\n",
       "      <td>-0.018745</td>\n",
       "      <td>-0.003314</td>\n",
       "      <td>-0.001484</td>\n",
       "      <td>0.005836</td>\n",
       "      <td>0.007693</td>\n",
       "      <td>0.002075</td>\n",
       "      <td>-0.000694</td>\n",
       "      <td>0.000325</td>\n",
       "    </tr>\n",
       "    <tr>\n",
       "      <th>259</th>\n",
       "      <td>-0.000041</td>\n",
       "      <td>-0.000033</td>\n",
       "      <td>0.000641</td>\n",
       "      <td>-0.003736</td>\n",
       "      <td>-0.002209</td>\n",
       "      <td>0.001043</td>\n",
       "      <td>0.000767</td>\n",
       "      <td>0.000171</td>\n",
       "      <td>-0.000114</td>\n",
       "      <td>-0.001024</td>\n",
       "      <td>...</td>\n",
       "      <td>0.000511</td>\n",
       "      <td>0.001196</td>\n",
       "      <td>-0.033740</td>\n",
       "      <td>0.001210</td>\n",
       "      <td>0.000014</td>\n",
       "      <td>0.001257</td>\n",
       "      <td>0.001794</td>\n",
       "      <td>0.001682</td>\n",
       "      <td>0.000983</td>\n",
       "      <td>-0.000816</td>\n",
       "    </tr>\n",
       "    <tr>\n",
       "      <th>711</th>\n",
       "      <td>0.000403</td>\n",
       "      <td>0.001451</td>\n",
       "      <td>0.000002</td>\n",
       "      <td>0.003915</td>\n",
       "      <td>-0.000603</td>\n",
       "      <td>-0.000088</td>\n",
       "      <td>-0.003941</td>\n",
       "      <td>0.000147</td>\n",
       "      <td>-0.000715</td>\n",
       "      <td>0.002222</td>\n",
       "      <td>...</td>\n",
       "      <td>0.000354</td>\n",
       "      <td>0.000213</td>\n",
       "      <td>0.039463</td>\n",
       "      <td>-0.007140</td>\n",
       "      <td>0.001517</td>\n",
       "      <td>0.001037</td>\n",
       "      <td>-0.001251</td>\n",
       "      <td>-0.001013</td>\n",
       "      <td>-0.000325</td>\n",
       "      <td>0.001042</td>\n",
       "    </tr>\n",
       "    <tr>\n",
       "      <th>440</th>\n",
       "      <td>0.000161</td>\n",
       "      <td>0.000109</td>\n",
       "      <td>0.000228</td>\n",
       "      <td>0.003147</td>\n",
       "      <td>-0.000549</td>\n",
       "      <td>0.005950</td>\n",
       "      <td>0.001272</td>\n",
       "      <td>-0.000079</td>\n",
       "      <td>-0.000456</td>\n",
       "      <td>-0.002835</td>\n",
       "      <td>...</td>\n",
       "      <td>0.002725</td>\n",
       "      <td>0.000050</td>\n",
       "      <td>-0.021152</td>\n",
       "      <td>0.000364</td>\n",
       "      <td>-0.000929</td>\n",
       "      <td>0.005707</td>\n",
       "      <td>0.005987</td>\n",
       "      <td>-0.000149</td>\n",
       "      <td>0.001944</td>\n",
       "      <td>0.000454</td>\n",
       "    </tr>\n",
       "    <tr>\n",
       "      <th>26</th>\n",
       "      <td>0.000154</td>\n",
       "      <td>0.000008</td>\n",
       "      <td>-0.001024</td>\n",
       "      <td>0.004810</td>\n",
       "      <td>0.000299</td>\n",
       "      <td>0.002060</td>\n",
       "      <td>0.001248</td>\n",
       "      <td>0.000055</td>\n",
       "      <td>-0.000081</td>\n",
       "      <td>0.007516</td>\n",
       "      <td>...</td>\n",
       "      <td>-0.000389</td>\n",
       "      <td>0.000194</td>\n",
       "      <td>0.039537</td>\n",
       "      <td>0.004109</td>\n",
       "      <td>-0.000542</td>\n",
       "      <td>-0.000322</td>\n",
       "      <td>0.000788</td>\n",
       "      <td>0.001582</td>\n",
       "      <td>0.000048</td>\n",
       "      <td>-0.002857</td>\n",
       "    </tr>\n",
       "  </tbody>\n",
       "</table>\n",
       "<p>235 rows × 200 columns</p>\n",
       "</div>"
      ],
      "text/plain": [
       "     education_level  missed_meals  withdraw_entire_salary  total_savings  \\\n",
       "730        -0.000872      0.000559               -0.000261      -0.003563   \n",
       "720        -0.001490      0.000625                0.000483       0.000360   \n",
       "667        -0.001111      0.001245                0.001258       0.000707   \n",
       "788         0.000156      0.000094               -0.000168      -0.001219   \n",
       "599        -0.001503     -0.001587                0.001142      -0.007595   \n",
       "..               ...           ...                     ...            ...   \n",
       "277         0.003025     -0.000278                0.000437      -0.004969   \n",
       "259        -0.000041     -0.000033                0.000641      -0.003736   \n",
       "711         0.000403      0.001451                0.000002       0.003915   \n",
       "440         0.000161      0.000109                0.000228       0.003147   \n",
       "26          0.000154      0.000008               -0.001024       0.004810   \n",
       "\n",
       "     uses_bank      male  bank_savings  cash_savings  loans_given  \\\n",
       "730  -0.000762 -0.000081      0.000868      0.000297     0.000552   \n",
       "720  -0.000411 -0.000264     -0.008492     -0.000748     0.002999   \n",
       "667   0.000405 -0.000095      0.000674      0.000002     0.000206   \n",
       "788   0.000168 -0.000353      0.000258     -0.007595     0.003331   \n",
       "599   0.001474 -0.000110      0.000605      0.000090     0.000212   \n",
       "..         ...       ...           ...           ...          ...   \n",
       "277   0.000331 -0.000498      0.001160     -0.000595    -0.000792   \n",
       "259  -0.002209  0.001043      0.000767      0.000171    -0.000114   \n",
       "711  -0.000603 -0.000088     -0.003941      0.000147    -0.000715   \n",
       "440  -0.000549  0.005950      0.001272     -0.000079    -0.000456   \n",
       "26    0.000299  0.002060      0.001248      0.000055    -0.000081   \n",
       "\n",
       "     mpaisa_savings  ...  e1_cash_amount  e1_violence_prime  money_mpaz_plan  \\\n",
       "730       -0.000376  ...        0.000120           0.000051         0.044042   \n",
       "720       -0.004345  ...        0.000839           0.000043        -0.021484   \n",
       "667        0.004585  ...       -0.000161          -0.000099         0.019904   \n",
       "788       -0.003783  ...        0.000327           0.000096        -0.021759   \n",
       "599        0.000247  ...        0.000382          -0.000216         0.033155   \n",
       "..              ...  ...             ...                ...              ...   \n",
       "277        0.002139  ...       -0.001131          -0.000285        -0.018745   \n",
       "259       -0.001024  ...        0.000511           0.001196        -0.033740   \n",
       "711        0.002222  ...        0.000354           0.000213         0.039463   \n",
       "440       -0.002835  ...        0.002725           0.000050        -0.021152   \n",
       "26         0.007516  ...       -0.000389           0.000194         0.039537   \n",
       "\n",
       "     financialproduct_mpaz  money_mpaz_spent  e1_switch_a  e1_switch_left_a  \\\n",
       "730              -0.010733          0.000398     0.002730          0.001044   \n",
       "720               0.002467         -0.000934    -0.005421         -0.000111   \n",
       "667               0.001356         -0.002054    -0.006970         -0.001820   \n",
       "788               0.001364         -0.001465    -0.004820         -0.004631   \n",
       "599              -0.003472         -0.014538    -0.005788         -0.001402   \n",
       "..                     ...               ...          ...               ...   \n",
       "277              -0.003314         -0.001484     0.005836          0.007693   \n",
       "259               0.001210          0.000014     0.001257          0.001794   \n",
       "711              -0.007140          0.001517     0.001037         -0.001251   \n",
       "440               0.000364         -0.000929     0.005707          0.005987   \n",
       "26                0.004109         -0.000542    -0.000322          0.000788   \n",
       "\n",
       "     e1_switch_b  e1_switch_left_b   beta_el  \n",
       "730    -0.000128          0.000318  0.000769  \n",
       "720    -0.000364          0.000044  0.002028  \n",
       "667    -0.000867         -0.000602  0.002783  \n",
       "788    -0.000483          0.001935  0.000262  \n",
       "599    -0.001173         -0.000859 -0.001334  \n",
       "..           ...               ...       ...  \n",
       "277     0.002075         -0.000694  0.000325  \n",
       "259     0.001682          0.000983 -0.000816  \n",
       "711    -0.001013         -0.000325  0.001042  \n",
       "440    -0.000149          0.001944  0.000454  \n",
       "26      0.001582          0.000048 -0.002857  \n",
       "\n",
       "[235 rows x 200 columns]"
      ]
     },
     "execution_count": 110,
     "metadata": {},
     "output_type": "execute_result"
    }
   ],
   "source": [
    "shap_test = explainer(X_test)\n",
    "shap_df = pd.DataFrame(shap_test.values[:,:,1], \n",
    "            columns=shap_test.feature_names, \n",
    "            index=X_test.index)\n",
    "shap_df"
   ]
  },
  {
   "cell_type": "code",
   "execution_count": 111,
   "id": "5df6305d",
   "metadata": {},
   "outputs": [
    {
     "data": {
      "image/png": "[encoded data removed]",
      "text/plain": [
       "<Figure size 576x540 with 1 Axes>"
      ]
     },
     "metadata": {},
     "output_type": "display_data"
    }
   ],
   "source": [
    "shap.plots.bar(shap_test[:,:,1],max_display=12)"
   ]
  },
  {
   "cell_type": "code",
   "execution_count": 112,
   "id": "866d80c6",
   "metadata": {},
   "outputs": [
    {
     "data": {
      "image/png": "[encoded data removed]",
      "text/plain": [
       "<Figure size 576x684 with 2 Axes>"
      ]
     },
     "metadata": {
      "needs_background": "light"
     },
     "output_type": "display_data"
    }
   ],
   "source": [
    "fig=plt.gcf()\n",
    "shap.summary_plot(shap_test[:,:,1],show=False)\n",
    "plt.savefig('shap_distribution_3.png')"
   ]
  },
  {
   "cell_type": "code",
   "execution_count": null,
   "id": "d4ef9be7",
   "metadata": {},
   "outputs": [],
   "source": []
  }
 ],
 "metadata": {
  "colab": {
   "provenance": [],
   "toc_visible": true
  },
  "kernelspec": {
   "display_name": "Python 3",
   "language": "python",
   "name": "python3"
  },
  "language_info": {
   "codemirror_mode": {
    "name": "ipython",
    "version": 3
   },
   "file_extension": ".py",
   "mimetype": "text/x-python",
   "name": "python",
   "nbconvert_exporter": "python",
   "pygments_lexer": "ipython3",
   "version": "3.9.5"
  }
 },
 "nbformat": 4,
 "nbformat_minor": 5
}
